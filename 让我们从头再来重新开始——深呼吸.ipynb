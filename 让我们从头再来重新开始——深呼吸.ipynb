{
 "cells": [
  {
   "cell_type": "markdown",
   "metadata": {},
   "source": [
    "# Task 2 - Classification project: Modelling Consumer Response to Marketing"
   ]
  },
  {
   "cell_type": "code",
   "execution_count": 1,
   "metadata": {
    "collapsed": true
   },
   "outputs": [],
   "source": [
    "import numpy as np\n",
    "import pandas as pd \n",
    "import matplotlib.pyplot as plt\n",
    "import seaborn as sns\n",
    "%matplotlib inline"
   ]
  },
  {
   "cell_type": "code",
   "execution_count": 2,
   "metadata": {
    "collapsed": false
   },
   "outputs": [
    {
     "data": {
      "text/html": [
       "<div>\n",
       "<table border=\"1\" class=\"dataframe\">\n",
       "  <thead>\n",
       "    <tr style=\"text-align: right;\">\n",
       "      <th></th>\n",
       "      <th>HHKEY</th>\n",
       "      <th>ZIP_CODE</th>\n",
       "      <th>REC</th>\n",
       "      <th>FRE</th>\n",
       "      <th>MON</th>\n",
       "      <th>CC_CARD</th>\n",
       "      <th>AVRG</th>\n",
       "      <th>PC_CALC20</th>\n",
       "      <th>PSWEATERS</th>\n",
       "      <th>PKNIT_TOPS</th>\n",
       "      <th>...</th>\n",
       "      <th>VALPHON</th>\n",
       "      <th>WEB</th>\n",
       "      <th>MAILED</th>\n",
       "      <th>RESPONDED</th>\n",
       "      <th>RESPONSERATE</th>\n",
       "      <th>HI</th>\n",
       "      <th>LTFREDAY</th>\n",
       "      <th>CLUSTYPE</th>\n",
       "      <th>PERCRET</th>\n",
       "      <th>RESP</th>\n",
       "    </tr>\n",
       "  </thead>\n",
       "  <tbody>\n",
       "    <tr>\n",
       "      <th>0</th>\n",
       "      <td>9955600066402</td>\n",
       "      <td>1001</td>\n",
       "      <td>208</td>\n",
       "      <td>2</td>\n",
       "      <td>368.46</td>\n",
       "      <td>0</td>\n",
       "      <td>184.23</td>\n",
       "      <td>11</td>\n",
       "      <td>0.18</td>\n",
       "      <td>0.00</td>\n",
       "      <td>...</td>\n",
       "      <td>N</td>\n",
       "      <td>0</td>\n",
       "      <td>5</td>\n",
       "      <td>0</td>\n",
       "      <td>0.00</td>\n",
       "      <td>31.81</td>\n",
       "      <td>111.00</td>\n",
       "      <td>10</td>\n",
       "      <td>0.00</td>\n",
       "      <td>0</td>\n",
       "    </tr>\n",
       "    <tr>\n",
       "      <th>1</th>\n",
       "      <td>9955600073501</td>\n",
       "      <td>1028</td>\n",
       "      <td>6</td>\n",
       "      <td>4</td>\n",
       "      <td>258.00</td>\n",
       "      <td>1</td>\n",
       "      <td>64.50</td>\n",
       "      <td>11</td>\n",
       "      <td>0.26</td>\n",
       "      <td>0.16</td>\n",
       "      <td>...</td>\n",
       "      <td>Y</td>\n",
       "      <td>0</td>\n",
       "      <td>4</td>\n",
       "      <td>2</td>\n",
       "      <td>50.00</td>\n",
       "      <td>32.72</td>\n",
       "      <td>43.50</td>\n",
       "      <td>10</td>\n",
       "      <td>0.03</td>\n",
       "      <td>1</td>\n",
       "    </tr>\n",
       "    <tr>\n",
       "      <th>2</th>\n",
       "      <td>9955600076313</td>\n",
       "      <td>1056</td>\n",
       "      <td>327</td>\n",
       "      <td>2</td>\n",
       "      <td>77.00</td>\n",
       "      <td>0</td>\n",
       "      <td>38.50</td>\n",
       "      <td>11</td>\n",
       "      <td>1.00</td>\n",
       "      <td>0.00</td>\n",
       "      <td>...</td>\n",
       "      <td>N</td>\n",
       "      <td>0</td>\n",
       "      <td>4</td>\n",
       "      <td>0</td>\n",
       "      <td>0.00</td>\n",
       "      <td>100.00</td>\n",
       "      <td>68.60</td>\n",
       "      <td>16</td>\n",
       "      <td>0.00</td>\n",
       "      <td>0</td>\n",
       "    </tr>\n",
       "    <tr>\n",
       "      <th>3</th>\n",
       "      <td>9955600078045</td>\n",
       "      <td>1118</td>\n",
       "      <td>66</td>\n",
       "      <td>8</td>\n",
       "      <td>846.06</td>\n",
       "      <td>1</td>\n",
       "      <td>105.75</td>\n",
       "      <td>11</td>\n",
       "      <td>0.38</td>\n",
       "      <td>0.00</td>\n",
       "      <td>...</td>\n",
       "      <td>Y</td>\n",
       "      <td>0</td>\n",
       "      <td>9</td>\n",
       "      <td>6</td>\n",
       "      <td>66.67</td>\n",
       "      <td>23.27</td>\n",
       "      <td>26.96</td>\n",
       "      <td>10</td>\n",
       "      <td>0.00</td>\n",
       "      <td>0</td>\n",
       "    </tr>\n",
       "    <tr>\n",
       "      <th>4</th>\n",
       "      <td>9955600078517</td>\n",
       "      <td>1107</td>\n",
       "      <td>49</td>\n",
       "      <td>1</td>\n",
       "      <td>87.44</td>\n",
       "      <td>0</td>\n",
       "      <td>87.44</td>\n",
       "      <td>11</td>\n",
       "      <td>0.20</td>\n",
       "      <td>0.20</td>\n",
       "      <td>...</td>\n",
       "      <td>Y</td>\n",
       "      <td>0</td>\n",
       "      <td>0</td>\n",
       "      <td>0</td>\n",
       "      <td>0.00</td>\n",
       "      <td>28.52</td>\n",
       "      <td>24.50</td>\n",
       "      <td>20</td>\n",
       "      <td>0.00</td>\n",
       "      <td>0</td>\n",
       "    </tr>\n",
       "  </tbody>\n",
       "</table>\n",
       "<p>5 rows × 51 columns</p>\n",
       "</div>"
      ],
      "text/plain": [
       "           HHKEY  ZIP_CODE  REC  FRE     MON  CC_CARD    AVRG  PC_CALC20  \\\n",
       "0  9955600066402      1001  208    2  368.46        0  184.23         11   \n",
       "1  9955600073501      1028    6    4  258.00        1   64.50         11   \n",
       "2  9955600076313      1056  327    2   77.00        0   38.50         11   \n",
       "3  9955600078045      1118   66    8  846.06        1  105.75         11   \n",
       "4  9955600078517      1107   49    1   87.44        0   87.44         11   \n",
       "\n",
       "   PSWEATERS  PKNIT_TOPS  ...   VALPHON  WEB  MAILED  RESPONDED  RESPONSERATE  \\\n",
       "0       0.18        0.00  ...         N    0       5          0          0.00   \n",
       "1       0.26        0.16  ...         Y    0       4          2         50.00   \n",
       "2       1.00        0.00  ...         N    0       4          0          0.00   \n",
       "3       0.38        0.00  ...         Y    0       9          6         66.67   \n",
       "4       0.20        0.20  ...         Y    0       0          0          0.00   \n",
       "\n",
       "       HI  LTFREDAY  CLUSTYPE  PERCRET  RESP  \n",
       "0   31.81    111.00        10     0.00     0  \n",
       "1   32.72     43.50        10     0.03     1  \n",
       "2  100.00     68.60        16     0.00     0  \n",
       "3   23.27     26.96        10     0.00     0  \n",
       "4   28.52     24.50        20     0.00     0  \n",
       "\n",
       "[5 rows x 51 columns]"
      ]
     },
     "execution_count": 2,
     "metadata": {},
     "output_type": "execute_result"
    }
   ],
   "source": [
    "df = pd.read_csv(\"Clothing_Store.csv\") # load CSV file\n",
    "df.head()"
   ]
  },
  {
   "cell_type": "code",
   "execution_count": 3,
   "metadata": {
    "collapsed": false
   },
   "outputs": [
    {
     "data": {
      "text/plain": [
       "(21740, 51)"
      ]
     },
     "execution_count": 3,
     "metadata": {},
     "output_type": "execute_result"
    }
   ],
   "source": [
    "df.shape   # no.of customers and fileds"
   ]
  },
  {
   "cell_type": "markdown",
   "metadata": {},
   "source": [
    "## data cleaning"
   ]
  },
  {
   "cell_type": "code",
   "execution_count": 4,
   "metadata": {
    "collapsed": false
   },
   "outputs": [
    {
     "name": "stdout",
     "output_type": "stream",
     "text": [
      "REC             0\n",
      "FRE             0\n",
      "MON             0\n",
      "CC_CARD         0\n",
      "AVRG            0\n",
      "PC_CALC20       0\n",
      "PSWEATERS       0\n",
      "PKNIT_TOPS      0\n",
      "PKNIT_DRES      0\n",
      "PBLOUSES        0\n",
      "PJACKETS        0\n",
      "PCAR_PNTS       0\n",
      "PCAS_PNTS       0\n",
      "PSHIRTS         0\n",
      "PDRESSES        0\n",
      "PSUITS          0\n",
      "POUTERWEAR      0\n",
      "PJEWELRY        0\n",
      "PFASHION        0\n",
      "PLEGWEAR        0\n",
      "PCOLLSPND       0\n",
      "AMSPEND         0\n",
      "PSSPEND         0\n",
      "CCSPEND         0\n",
      "AXSPEND         0\n",
      "TMONSPEND       0\n",
      "OMONSPEND       0\n",
      "SMONSPEND       0\n",
      "PREVPD          0\n",
      "GMP             0\n",
      "PROMOS          0\n",
      "DAYS            0\n",
      "FREDAYS         0\n",
      "MARKDOWN        0\n",
      "CLASSES         0\n",
      "COUPONS         0\n",
      "STYLES          0\n",
      "STORES          0\n",
      "STORELOY        0\n",
      "WEB             0\n",
      "MAILED          0\n",
      "RESPONDED       0\n",
      "RESPONSERATE    0\n",
      "HI              0\n",
      "LTFREDAY        0\n",
      "CLUSTYPE        0\n",
      "PERCRET         0\n",
      "VALPHON         0\n",
      "dtype: int64\n",
      "0\n"
     ]
    }
   ],
   "source": [
    "X = df.iloc[:, :-1]\n",
    "\n",
    "phone = pd.get_dummies(X['VALPHON'], drop_first=True) # Get dummy\n",
    "phone = phone.rename(columns = {'Y':'VALPHON'})\n",
    "\n",
    "X = X.drop('VALPHON', axis=1)\n",
    "X = X.drop('HHKEY', axis=1)\n",
    "X = X.drop('ZIP_CODE', axis=1)\n",
    "\n",
    "# Cleaned Variables & target\n",
    "X = pd.concat([X, phone], axis=1)\n",
    "y = df.iloc[:,-1]\n",
    "\n",
    "# missing value check\n",
    "import scipy as sp\n",
    "print(sp.sum(sp.isnan(X)))\n",
    "print(sp.sum(sp.isnan(y)))"
   ]
  },
  {
   "cell_type": "markdown",
   "metadata": {},
   "source": [
    "## data understanding & preparation"
   ]
  },
  {
   "cell_type": "code",
   "execution_count": 5,
   "metadata": {
    "collapsed": false
   },
   "outputs": [
    {
     "name": "stdout",
     "output_type": "stream",
     "text": [
      "Proportion of responders: 16.61%\n"
     ]
    }
   ],
   "source": [
    "# propostion of responder\n",
    "print(\"Proportion of responders: {0:.2f}%\".format(float(sum(y))/float(len(y))*100))"
   ]
  },
  {
   "cell_type": "code",
   "execution_count": 6,
   "metadata": {
    "collapsed": false
   },
   "outputs": [
    {
     "data": {
      "text/html": [
       "<div>\n",
       "<table border=\"1\" class=\"dataframe\">\n",
       "  <thead>\n",
       "    <tr style=\"text-align: right;\">\n",
       "      <th></th>\n",
       "      <th>lifestyle</th>\n",
       "      <th>prob</th>\n",
       "    </tr>\n",
       "  </thead>\n",
       "  <tbody>\n",
       "    <tr>\n",
       "      <th>0</th>\n",
       "      <td>10</td>\n",
       "      <td>12.065317</td>\n",
       "    </tr>\n",
       "    <tr>\n",
       "      <th>1</th>\n",
       "      <td>1</td>\n",
       "      <td>9.448022</td>\n",
       "    </tr>\n",
       "    <tr>\n",
       "      <th>2</th>\n",
       "      <td>4</td>\n",
       "      <td>7.907084</td>\n",
       "    </tr>\n",
       "    <tr>\n",
       "      <th>3</th>\n",
       "      <td>16</td>\n",
       "      <td>6.582337</td>\n",
       "    </tr>\n",
       "    <tr>\n",
       "      <th>4</th>\n",
       "      <td>8</td>\n",
       "      <td>5.032199</td>\n",
       "    </tr>\n",
       "  </tbody>\n",
       "</table>\n",
       "</div>"
      ],
      "text/plain": [
       "   lifestyle       prob\n",
       "0         10  12.065317\n",
       "1          1   9.448022\n",
       "2          4   7.907084\n",
       "3         16   6.582337\n",
       "4          8   5.032199"
      ]
     },
     "execution_count": 6,
     "metadata": {},
     "output_type": "execute_result"
    }
   ],
   "source": [
    "# Microvision lifestyle cluster type\n",
    "from collections import Counter\n",
    "style = Counter(X['CLUSTYPE'])\n",
    "style_prob = [(i, style[i] / len(X['CLUSTYPE']) * 100.0) for i, count in style.most_common()]\n",
    "style_prob = pd.DataFrame(style_prob)\n",
    "style_prob = pd.DataFrame({'lifestyle':style_prob[0], 'prob': style_prob[1]})\n",
    "style_prob.head()"
   ]
  },
  {
   "cell_type": "code",
   "execution_count": 42,
   "metadata": {
    "collapsed": false
   },
   "outputs": [
    {
     "name": "stdout",
     "output_type": "stream",
     "text": [
      "             REC        FRE        MON       AVRG  PC_CALC20    CCSPEND  \\\n",
      "count  21740.000  21740.000  21740.000  21740.000  21740.000  21740.000   \n",
      "mean      -0.000      0.000      0.000      0.000      0.000      0.000   \n",
      "std        1.000      1.000      1.000      1.000      1.000      1.000   \n",
      "min       -3.471     -1.222     -5.844     -7.836     -0.643     -8.095   \n",
      "25%       -0.608     -1.222     -0.772     -0.607     -0.643     -0.549   \n",
      "50%        0.221     -0.047     -0.087      0.010     -0.643     -0.012   \n",
      "75%        0.819      0.695      0.707      0.633      1.429      0.645   \n",
      "max        1.279      3.853      4.499      4.562      2.379      4.221   \n",
      "skew      -0.927      0.468      0.248     -0.197      0.974     -0.433   \n",
      "kurt       0.401     -0.500      0.043      1.041     -0.885      2.017   \n",
      "\n",
      "            DAYS    FREDAYS    CLASSES     STYLES    ...      RESPONDED  \\\n",
      "count  21740.000  21740.000  21740.000  21740.000    ...      21740.000   \n",
      "mean       0.000      0.000      0.000     -0.000    ...         -0.000   \n",
      "std        1.000      1.000      1.000      1.000    ...          1.000   \n",
      "min       -9.487     -5.501     -2.135     -2.164    ...         -0.833   \n",
      "25%       -0.440     -0.675     -0.741     -0.632    ...         -0.833   \n",
      "50%        0.268      0.032      0.139     -0.072    ...         -0.833   \n",
      "75%        0.817      0.741      0.787      0.688    ...          0.852   \n",
      "max        1.015      2.040      2.448      4.131    ...          3.118   \n",
      "skew      -1.631     -0.237     -0.245      0.200    ...          0.773   \n",
      "kurt       3.755     -0.210     -0.528     -0.291    ...         -0.614   \n",
      "\n",
      "       RESPONSERATE   CLUSTYPE    PERCRET  OMONSPEND  2-3MONSPEND  \\\n",
      "count     21740.000  21740.000  21740.000  21740.000    21740.000   \n",
      "mean          0.000     -0.000      0.000     -0.000       -0.000   \n",
      "std           1.000      1.000      1.000      1.000        0.783   \n",
      "min          -0.851     -2.244     -0.557     -0.448       -2.721   \n",
      "25%          -0.851     -0.831     -0.557     -0.448       -0.302   \n",
      "50%          -0.851     -0.148     -0.557     -0.448       -0.302   \n",
      "75%           0.879      0.721      0.393     -0.448        0.343   \n",
      "max           2.308      2.226     19.705      8.617        6.958   \n",
      "skew          0.629      0.256      2.967      2.447        1.293   \n",
      "kurt         -1.039     -0.626     21.354      6.114        2.464   \n",
      "\n",
      "       4-6MONSPEND    CC_CARD    VALPHON        WEB  \n",
      "count    21740.000  21740.000  21740.000  21740.000  \n",
      "mean        -0.000      0.384      0.860      0.042  \n",
      "std          0.698      0.486      0.347      0.200  \n",
      "min         -2.116      0.000      0.000      0.000  \n",
      "25%         -0.354      0.000      1.000      0.000  \n",
      "50%         -0.354      0.000      1.000      0.000  \n",
      "75%          0.482      1.000      1.000      0.000  \n",
      "max          6.432      1.000      1.000      1.000  \n",
      "skew         1.084      0.478     -2.070      4.596  \n",
      "kurt         1.249     -1.772      2.285     19.123  \n",
      "\n",
      "[10 rows x 48 columns]\n"
     ]
    }
   ],
   "source": [
    "# skew + kurtosis\n",
    "descrip = X.describe()\n",
    "descrip.loc['skew', :] = X.skew()\n",
    "descrip.loc['kurt', :] = X.kurt()\n",
    "\n",
    "print(descrip.round(3))"
   ]
  },
  {
   "cell_type": "code",
   "execution_count": 8,
   "metadata": {
    "collapsed": false
   },
   "outputs": [
    {
     "data": {
      "text/plain": [
       "<matplotlib.figure.Figure at 0xf80acd048>"
      ]
     },
     "metadata": {},
     "output_type": "display_data"
    },
    {
     "data": {
      "image/png": "[encoded data removed]",
      "text/plain": [
       "<matplotlib.figure.Figure at 0xf80acd6d8>"
      ]
     },
     "metadata": {},
     "output_type": "display_data"
    }
   ],
   "source": [
    "# skewness example\n",
    "def hist(series):\n",
    "    fig,ax=plt.subplots(figsize=(9,7))\n",
    "    sns.distplot(series,ax=ax,hist_kws={'alpha':0.9, 'edgecolor':'black','color':sns.color_palette('Blues', n_colors=2)[-1]},\n",
    "                                        kde_kws={'color':'black','alpha':0.7})\n",
    "    return fig, ax\n",
    "\n",
    "fig = plt.figure()\n",
    "hist(X['HI'])\n",
    "sns.despine()   \n",
    "plt.show()\n",
    "fig.savefig('Product uniformity.pdf')      #### [存不下来啊？！！？！,自定义的function？]"
   ]
  },
  {
   "cell_type": "markdown",
   "metadata": {},
   "source": [
    "### Numerical variables"
   ]
  },
  {
   "cell_type": "markdown",
   "metadata": {},
   "source": [
    "#### Normalization"
   ]
  },
  {
   "cell_type": "code",
   "execution_count": 9,
   "metadata": {
    "collapsed": false
   },
   "outputs": [],
   "source": [
    "# numerical variables\n",
    "from sklearn import preprocessing\n",
    "X_num = X.drop(['CC_CARD','VALPHON','WEB'], axis=1)\n",
    "\n",
    "# no '0' - natural log transformation\n",
    "X_num1 = X_num.loc[:, (X_num != 0).all(axis=0)]\n",
    "X_log = np.log(X_num1)\n",
    "\n",
    "# contain '0' - square root transformation \n",
    "X_num0 = X_num.drop(X_num1, axis=1)\n",
    "X_sqrt = np.sqrt(X_num0)\n",
    "\n",
    "# concate log & sqrt \n",
    "X_num = pd.concat([X_log, X_sqrt], axis=1)"
   ]
  },
  {
   "cell_type": "code",
   "execution_count": 10,
   "metadata": {
    "collapsed": false
   },
   "outputs": [
    {
     "data": {
      "text/plain": [
       "<matplotlib.figure.Figure at 0xffe5ed710>"
      ]
     },
     "metadata": {},
     "output_type": "display_data"
    },
    {
     "data": {
      "image/png": "[encoded data removed]",
      "text/plain": [
       "<matplotlib.figure.Figure at 0xf8030b198>"
      ]
     },
     "metadata": {},
     "output_type": "display_data"
    }
   ],
   "source": [
    "fig = plt.figure()\n",
    "hist(X_num['HI'])\n",
    "sns.despine()   \n",
    "plt.show()\n",
    "fig.savefig('Product uniformity_norm.pdf') "
   ]
  },
  {
   "cell_type": "code",
   "execution_count": 11,
   "metadata": {
    "collapsed": false
   },
   "outputs": [
    {
     "data": {
      "text/plain": [
       "<matplotlib.figure.Figure at 0xf80609c18>"
      ]
     },
     "metadata": {},
     "output_type": "display_data"
    },
    {
     "data": {
      "image/png": "[encoded data removed]",
      "text/plain": [
       "<matplotlib.figure.Figure at 0xf8052ed68>"
      ]
     },
     "metadata": {},
     "output_type": "display_data"
    },
    {
     "data": {
      "image/png": "[encoded data removed]",
      "text/plain": [
       "<matplotlib.figure.Figure at 0xf8052ec18>"
      ]
     },
     "metadata": {},
     "output_type": "display_data"
    }
   ],
   "source": [
    "# 15 closing varaibles - choose one as example\n",
    "fig = plt.figure()\n",
    "hist(X['PJACKETS'])\n",
    "hist(X_num['PJACKETS'])\n",
    "sns.despine() \n",
    "plt.show()\n",
    "fig.savefig('PJACKETS.pdf')      #### [存不下来啊？！！？！,自定义的function？]"
   ]
  },
  {
   "cell_type": "code",
   "execution_count": 12,
   "metadata": {
    "collapsed": false
   },
   "outputs": [
    {
     "name": "stdout",
     "output_type": "stream",
     "text": [
      "Proportion of not buy jackets: 48.17%\n"
     ]
    }
   ],
   "source": [
    "# zero spike\n",
    "jacket = Counter(X_num['PJACKETS'])\n",
    "print(\"Proportion of not buy jackets: {0:.2f}%\".format(jacket[0]/len(X_num['PJACKETS']) * 100.0))"
   ]
  },
  {
   "cell_type": "markdown",
   "metadata": {},
   "source": [
    "#### Standardization"
   ]
  },
  {
   "cell_type": "code",
   "execution_count": 28,
   "metadata": {
    "collapsed": false
   },
   "outputs": [
    {
     "name": "stdout",
     "output_type": "stream",
     "text": [
      "std of last 6mos spend: 10.01\n",
      "std of coupon spend: 0.74\n"
     ]
    }
   ],
   "source": [
    "# differences in std\n",
    "descrip = X_num.describe()\n",
    "print(\"std of last 6mos spend: {0:.2f}\".format(np.std(X_num['SMONSPEND'])))\n",
    "print(\"std of coupon spend: {0:.2f}\".format(np.std(X_num['COUPONS'])))"
   ]
  },
  {
   "cell_type": "code",
   "execution_count": 14,
   "metadata": {
    "collapsed": false
   },
   "outputs": [
    {
     "data": {
      "text/plain": [
       "<matplotlib.figure.Figure at 0xffe5f64e0>"
      ]
     },
     "metadata": {},
     "output_type": "display_data"
    },
    {
     "data": {
      "image/png": "[encoded data removed]",
      "text/plain": [
       "<matplotlib.figure.Figure at 0xf813ba4a8>"
      ]
     },
     "metadata": {},
     "output_type": "display_data"
    }
   ],
   "source": [
    "# z-score standardize\n",
    "from sklearn import preprocessing\n",
    "X_scale = preprocessing.scale(X_num)\n",
    "X_scale = pd.DataFrame(X_scale, columns = X_num.columns, index = X_num.index)\n",
    "\n",
    "# one variable to prove [6mos spend]\n",
    "plt.figure()\n",
    "hist(X_scale['SMONSPEND'])\n",
    "sns.despine() \n",
    "plt.show()\n",
    "fig.savefig('SMONSPEND.pdf')   "
   ]
  },
  {
   "cell_type": "markdown",
   "metadata": {},
   "source": [
    "#### derive new variables"
   ]
  },
  {
   "cell_type": "markdown",
   "metadata": {},
   "source": [
    "##### amount spent series"
   ]
  },
  {
   "cell_type": "code",
   "execution_count": 15,
   "metadata": {
    "collapsed": true
   },
   "outputs": [],
   "source": [
    "X_spent = X_scale[['TMONSPEND', 'OMONSPEND', 'SMONSPEND']]\n",
    "\n",
    "X_spent23 = X_scale['TMONSPEND']-X_scale['OMONSPEND']\n",
    "X_spent23 = pd.DataFrame({'2-3MONSPEND': X_spent23})\n",
    "\n",
    "X_spent46 = X_scale['SMONSPEND']-X_scale['TMONSPEND']\n",
    "X_spent46 = pd.DataFrame({'4-6MONSPEND': X_spent46})\n",
    "\n",
    "# replace TMONSPEND & SMONSPEND to 23spent & 46spent\n",
    "X_spent_n= pd.concat([X_spent['OMONSPEND'], X_spent23, X_spent46], axis=1)\n",
    "X_scale = X_scale.drop(X_spent, axis=1)\n",
    "X_scale = pd.concat([X_scale, X_spent_n], axis=1)"
   ]
  },
  {
   "cell_type": "markdown",
   "metadata": {},
   "source": [
    "##### functional relationship"
   ]
  },
  {
   "cell_type": "code",
   "execution_count": 16,
   "metadata": {
    "collapsed": true
   },
   "outputs": [],
   "source": [
    "X_func = X_scale[['FRE', 'MON', 'AVRG']]\n",
    "X_func_corr = X_func.corr()\n",
    "#return this to below~~~~"
   ]
  },
  {
   "cell_type": "markdown",
   "metadata": {},
   "source": [
    "### Rough: Relationships b/w the Predictors and the Response"
   ]
  },
  {
   "cell_type": "code",
   "execution_count": 17,
   "metadata": {
    "collapsed": true
   },
   "outputs": [],
   "source": [
    "# merge catogritical variables back\n",
    "X_cal = X[['CC_CARD', 'VALPHON', 'WEB']]\n",
    "X = pd.concat([X_scale, X_cal], axis = 1)"
   ]
  },
  {
   "cell_type": "code",
   "execution_count": 18,
   "metadata": {
    "collapsed": false
   },
   "outputs": [
    {
     "name": "stdout",
     "output_type": "stream",
     "text": [
      "FRE             0.400003\n",
      "STYLES          0.368682\n",
      "RESPONDED       0.337048\n",
      "MON             0.333518\n",
      "CLASSES         0.328448\n",
      "COUPONS         0.324806\n",
      "RESPONSERATE    0.322675\n",
      "STORES          0.285777\n",
      "dtype: float64\n",
      "LTFREDAY     0.434007\n",
      "FRE          0.400003\n",
      "STYLES       0.368682\n",
      "RESPONDED    0.337048\n",
      "MON          0.333518\n",
      "CLASSES      0.328448\n",
      "COUPONS      0.324806\n",
      "FREDAYS      0.323180\n",
      "dtype: float64\n"
     ]
    }
   ],
   "source": [
    "corr_y = X.corrwith(y).sort_values(ascending = False)\n",
    "corr_y_abs = X.corrwith(y).abs().sort_values(ascending = False)\n",
    "print(corr_y.head(8))\n",
    "print(corr_y_abs.head(8))"
   ]
  },
  {
   "cell_type": "code",
   "execution_count": 19,
   "metadata": {
    "collapsed": false
   },
   "outputs": [
    {
     "data": {
      "image/png": "[encoded data removed]",
      "text/plain": [
       "<matplotlib.figure.Figure at 0xf812bfeb8>"
      ]
     },
     "metadata": {},
     "output_type": "display_data"
    }
   ],
   "source": [
    "# highest corr variable plot \n",
    "lifevisit= pd.concat([X['LTFREDAY'], y], axis =1)\n",
    "lifevisit_1 = lifevisit[lifevisit['RESP'] !=0]\n",
    "lifevisit_0= lifevisit[lifevisit['RESP'] ==0]\n",
    "\n",
    "fig, ax = plt.subplots(figsize=(9,7))\n",
    "sns.distplot(lifevisit_0['LTFREDAY'],bins=None, ax=ax, kde=False, label='no response')\n",
    "sns.distplot(lifevisit_1['LTFREDAY'],bins=None, ax=ax, kde=False, label='responsd')\n",
    "plt.legend()\n",
    "plt.ylabel(\"Count\")\n",
    "plt.title(\"LTFREDAY w/ differnt response\")\n",
    "plt.savefig('LTFREDAY with differnt response.pdf')"
   ]
  },
  {
   "cell_type": "code",
   "execution_count": 20,
   "metadata": {
    "collapsed": false
   },
   "outputs": [
    {
     "data": {
      "image/png": "[encoded data removed]",
      "text/plain": [
       "<matplotlib.figure.Figure at 0xf81258128>"
      ]
     },
     "metadata": {},
     "output_type": "display_data"
    }
   ],
   "source": [
    "# normalize histograph\n",
    "fig, ax = plt.subplots(figsize=(9,7))\n",
    "sns.distplot(lifevisit_0['LTFREDAY'],bins=None, ax=ax, norm_hist = True, kde=False, label='no response')\n",
    "sns.distplot(lifevisit_1['LTFREDAY'],bins=None, ax=ax, norm_hist = True, kde=False, label='responsd')\n",
    "plt.legend()\n",
    "plt.ylabel(\"Percentage\")\n",
    "plt.title(\"Norm LTFREDAY w/ differnt response\")\n",
    "plt.savefig('Norm LTFREDAY with differnt response.pdf')"
   ]
  },
  {
   "cell_type": "markdown",
   "metadata": {},
   "source": [
    " # [这他妈y轴为什么不是sum在1？？？？]"
   ]
  },
  {
   "cell_type": "code",
   "execution_count": 21,
   "metadata": {
    "collapsed": false
   },
   "outputs": [
    {
     "data": {
      "text/plain": [
       "<matplotlib.text.Text at 0xf80f38358>"
      ]
     },
     "execution_count": 21,
     "metadata": {},
     "output_type": "execute_result"
    },
    {
     "data": {
      "image/png": "[encoded data removed]",
      "text/plain": [
       "<matplotlib.figure.Figure at 0xf81288f98>"
      ]
     },
     "metadata": {},
     "output_type": "display_data"
    }
   ],
   "source": [
    "#other high corrs\n",
    "high_corr = X[['FRE', 'STYLES', 'RESPONDED', 'MON', 'CLASSES', 'COUPONS', 'FREDAYS']]\n",
    "high_corr = pd.concat([high_corr, y], axis=1)\n",
    "high_corr_1 = high_corr[high_corr['RESP'] !=0]\n",
    "high_corr_0 = high_corr[high_corr['RESP'] ==0]\n",
    "\n",
    "# Set up the matplotlib figure\n",
    "f, axes = plt.subplots(2, 4, figsize=(10,10))\n",
    "sns.despine(left=True)\n",
    "\n",
    "# subplots\n",
    "sns.distplot(high_corr_0['FRE'],bins=None, ax=axes[0,0], norm_hist = True, kde=False, label='no response')\n",
    "sns.distplot(high_corr_1['FRE'],bins=None, ax=axes[0,0], norm_hist = True, kde=False, label='responsd')\n",
    "axes[0,0].legend(loc=\"upper right\")\n",
    "\n",
    "sns.distplot(high_corr_0['STYLES'],bins=None, ax=axes[0,1], norm_hist = True, kde=False, label='no response')\n",
    "sns.distplot(high_corr_1['STYLES'],bins=None, ax=axes[0,1], norm_hist = True, kde=False, label='responsd')\n",
    "axes[0,1].legend(loc=\"upper right\")\n",
    "\n",
    "sns.distplot(high_corr_0['RESPONDED'],bins=None, ax=axes[0,2], norm_hist = True, kde=False, label='no response')\n",
    "sns.distplot(high_corr_1['RESPONDED'],bins=None, ax=axes[0,2], norm_hist = True, kde=False, label='responsd')\n",
    "axes[0,2].legend(loc=\"upper right\")\n",
    "\n",
    "sns.distplot(high_corr_0['MON'],bins=None, ax=axes[0,3], norm_hist = True, kde=False, label='no response')\n",
    "sns.distplot(high_corr_1['MON'],bins=None, ax=axes[0,3], norm_hist = True, kde=False, label='responsd')\n",
    "axes[0,3].legend(loc=\"upper right\")\n",
    "\n",
    "sns.distplot(high_corr_0['CLASSES'],bins=None, ax=axes[1,0], norm_hist = True, kde=False, label='no response')\n",
    "sns.distplot(high_corr_1['CLASSES'],bins=None, ax=axes[1,0], norm_hist = True, kde=False, label='responsd')\n",
    "axes[1,0].legend(loc=\"upper right\")\n",
    "\n",
    "sns.distplot(high_corr_0['COUPONS'],bins=None, ax=axes[1,1], norm_hist = True, kde=False, label='no response')\n",
    "sns.distplot(high_corr_1['COUPONS'],bins=None, ax=axes[1,1], norm_hist = True, kde=False, label='responsd')\n",
    "axes[1,1].legend(loc=\"upper right\")\n",
    "\n",
    "sns.distplot(high_corr_0['FREDAYS'],bins=None, ax=axes[1,2], norm_hist = True, kde=False, label='no response')\n",
    "sns.distplot(high_corr_1['FREDAYS'],bins=None, ax=axes[1,2], norm_hist = True, kde=False, label='responsd')\n",
    "axes[1,2].legend(loc=\"upper right\")\n",
    "\n",
    "axes[0,0].set_ylabel('percentage')\n",
    "axes[1,0].set_ylabel('percentage')\n",
    "plt.suptitle('Norm high_corr variables w/ responses', fontsize=16)"
   ]
  },
  {
   "cell_type": "code",
   "execution_count": 23,
   "metadata": {
    "collapsed": false
   },
   "outputs": [
    {
     "data": {
      "image/png": "[encoded data removed]",
      "text/plain": [
       "<matplotlib.figure.Figure at 0xf832caf98>"
      ]
     },
     "metadata": {},
     "output_type": "display_data"
    }
   ],
   "source": [
    "# Norm privious closing percentage varaible w. response [这他妈y轴为什么不是sum在1？？？？]\n",
    "jacket = pd.concat([X['PJACKETS'], y], axis=1)\n",
    "jacket_1 = jacket[jacket['RESP'] !=0]\n",
    "jacket_0= jacket[jacket['RESP'] ==0]\n",
    "\n",
    "#plot\n",
    "fig, ax = plt.subplots(figsize=(9,7))\n",
    "sns.distplot(jacket_0['PJACKETS'],bins=None, ax=ax, norm_hist = True, kde=False, label='no response')\n",
    "sns.distplot(jacket_1['PJACKETS'],bins=None, ax=ax, norm_hist = True, kde=False, label='responsd')\n",
    "plt.legend()\n",
    "plt.ylabel(\"Percentage\")\n",
    "plt.title(\"Norm PJACKETS w/ differnt response\")\n",
    "plt.savefig('Norm PJACKETS with differnt response.pdf')"
   ]
  },
  {
   "cell_type": "code",
   "execution_count": 24,
   "metadata": {
    "collapsed": false
   },
   "outputs": [
    {
     "data": {
      "image/png": "[encoded data removed]",
      "text/plain": [
       "<matplotlib.figure.Figure at 0xf812b9400>"
      ]
     },
     "metadata": {},
     "output_type": "display_data"
    }
   ],
   "source": [
    "# Norm Uniformity w/ response\n",
    "uni = pd.concat([X['HI'], y], axis=1)\n",
    "uni_1 = uni[uni['RESP'] !=0]\n",
    "uni_0= uni[uni['RESP'] ==0]\n",
    "\n",
    "#plot\n",
    "fig, ax = plt.subplots(figsize=(9,7))\n",
    "sns.distplot(uni_0['HI'],bins=None, ax=ax, norm_hist = True, kde=False, label='no response')\n",
    "sns.distplot(uni_1['HI'],bins=None, ax=ax, norm_hist = True, kde=False, label='responsd')\n",
    "plt.legend()\n",
    "plt.ylabel(\"Percentage\")\n",
    "plt.title(\"Norm uniformity w/ differnt response\")\n",
    "plt.savefig('Norm uniformity with differnt response.pdf')"
   ]
  },
  {
   "cell_type": "markdown",
   "metadata": {},
   "source": [
    "### correlation b/w variables - multicollinearity"
   ]
  },
  {
   "cell_type": "code",
   "execution_count": 43,
   "metadata": {
    "collapsed": false
   },
   "outputs": [
    {
     "name": "stdout",
     "output_type": "stream",
     "text": [
      "high corr exist(+ve): CLASSES,FRE\n",
      "0.8\n",
      "high corr exist(+ve): CLASSES,MON\n",
      "0.84\n",
      "high corr exist(+ve): STYLES,FRE\n",
      "0.86\n",
      "high corr exist(+ve): STYLES,MON\n",
      "0.88\n",
      "high corr exist(+ve): STYLES,CLASSES\n",
      "0.92\n",
      "high corr exist(-ve): HI,CLASSES\n",
      "-0.8\n",
      "high corr exist(+ve): LTFREDAY,FREDAYS\n",
      "0.82\n",
      "high corr exist(+ve): MAILED,PROMOS\n",
      "0.9\n",
      "high corr exist(+ve): RESPONSERATE,RESPONDED\n",
      "0.94\n"
     ]
    }
   ],
   "source": [
    "corr_matrix = X.corr()\n",
    "corr_index = corr_matrix.index\n",
    "\n",
    "# high corr \n",
    "for i in range(len(corr_matrix.columns)):\n",
    "    for j in range(i):\n",
    "        if corr_matrix.iloc[i, j] >= 0.8:\n",
    "            if corr_index[i] != corr_index[j]:\n",
    "                print('high corr exist(+ve): ' +corr_index[i]+ ',' +corr_index[j])\n",
    "                print(corr_matrix.iloc[i, j].round(2))\n",
    "        if corr_matrix.iloc[i, j] <= -0.8:  \n",
    "            if corr_index[i] != corr_index[j]:\n",
    "                print('high corr exist(-ve): ' +corr_index[i]+ ',' +corr_index[j])\n",
    "                print(corr_matrix.iloc[i, j].round(2))"
   ]
  },
  {
   "cell_type": "code",
   "execution_count": 35,
   "metadata": {
    "collapsed": false
   },
   "outputs": [
    {
     "data": {
      "image/png": "[encoded data removed]",
      "text/plain": [
       "<matplotlib.figure.Figure at 0xf828ae0f0>"
      ]
     },
     "metadata": {},
     "output_type": "display_data"
    },
    {
     "data": {
      "image/png": "[encoded data removed]",
      "text/plain": [
       "<matplotlib.figure.Figure at 0xf806805c0>"
      ]
     },
     "metadata": {},
     "output_type": "display_data"
    }
   ],
   "source": [
    "# scatter plot -examples\n",
    "# positive relationship\n",
    "fig = plt.figure()\n",
    "plt.scatter(X['MAILED'], X['PROMOS'])\n",
    "plt.xlabel(\"MAILED\")\n",
    "plt.ylabel(\"PROMOS\")\n",
    "plt.title(\"MAILED vs. PROMOS\")\n",
    "plt.savefig(\"MAILED vs PROMOS.pdf\")\n",
    " \n",
    "# negative relationship\n",
    "fig = plt.figure()\n",
    "plt.scatter(X['CLASSES'], X['HI'])\n",
    "plt.xlabel(\"CLASSES\")\n",
    "plt.ylabel(\"Uniformoity\")\n",
    "plt.title(\"CLASSES vs. UNIFORMROITY\")\n",
    "plt.savefig(\"CLASSES vs. UNIFORMROITY.pdf\")"
   ]
  },
  {
   "cell_type": "code",
   "execution_count": 34,
   "metadata": {
    "collapsed": false
   },
   "outputs": [
    {
     "name": "stdout",
     "output_type": "stream",
     "text": [
      "+ve response on Card for jacket buyer : 10.74%\n",
      "+ve response on Phone for jacket buyer : 15.63%\n",
      "+ve response on Web for jacket buyer: 1.88%\n"
     ]
    }
   ],
   "source": [
    "# Jacket on flags varaibles & response  [sample]\n",
    "jacket_flags = pd.concat([jacket, X_cal], axis =1)\n",
    "\n",
    "# prop w/ card + respond\n",
    "cardj = jacket_flags[(jacket_flags['PJACKETS'] != 0) & (jacket_flags['RESP'] !=0) & (jacket_flags['CC_CARD'] !=0)]\n",
    "cardj_prob = cardj['PJACKETS'].count()/len(y) *100\n",
    "print(\"+ve response on Card for jacket buyer : {0:.2f}%\".format(cardj_prob))                    \n",
    "\n",
    "phonej = jacket_flags[(jacket_flags['PJACKETS'] != 0) & (jacket_flags['RESP'] !=0) & (jacket_flags['VALPHON'] !=0)]\n",
    "phonej_prob = phonej['PJACKETS'].count()/len(y) *100\n",
    "print(\"+ve response on Phone for jacket buyer : {0:.2f}%\".format(phonej_prob))                    \n",
    "\n",
    "webj = jacket_flags[(jacket_flags['PJACKETS'] != 0) & (jacket_flags['RESP'] !=0) & (jacket_flags['WEB'] !=0)]\n",
    "webj_prob = webj['PJACKETS'].count()/len(y) *100\n",
    "print(\"+ve response on Web for jacket buyer: {0:.2f}%\".format(webj_prob))                    "
   ]
  },
  {
   "cell_type": "markdown",
   "metadata": {},
   "source": [
    "### derive other Flag varaibles"
   ]
  },
  {
   "cell_type": "code",
   "execution_count": 52,
   "metadata": {
    "collapsed": true
   },
   "outputs": [],
   "source": [
    "# variables contain categorical meaning\n",
    "types = df[['PSWEATERS','PKNIT_TOPS','PKNIT_DRES','PBLOUSES','PJACKETS','PCAR_PNTS','PCAS_PNTS','PSHIRTS','PDRESSES','PSUITS','POUTERWEAR','PJEWELRY','PFASHION','PLEGWEAR','PCOLLSPND']]\n",
    "spent = df[['AMSPEND','PSSPEND','CCSPEND','AXSPEND','OMONSPEND','TMONSPEND','SMONSPEND','PREVPD']]\n",
    "others = df[['RESPONSERATE','PERCRET']]\n",
    "\n",
    "# binary those variables as 0 is no response, 1 is response\n",
    "types= types*999999\n",
    "types = types.clip_upper(1)\n",
    "\n",
    "spent = spent*999999\n",
    "spent = spent.clip_upper(1)\n",
    "\n",
    "others = others*999999\n",
    "others = others.clip_upper(1)\n",
    "\n",
    "# merge new flag variables together.\n",
    "flags = pd.concat([types, spent, others], axis=1)\n",
    "flags.columns = ['Flag_'] + flags.columns \n",
    "\n",
    "# merge with X\n",
    "X = pd.concat([flags, X], axis=1)"
   ]
  },
  {
   "cell_type": "markdown",
   "metadata": {},
   "source": [
    "## Modeling & Evaluation"
   ]
  },
  {
   "cell_type": "code",
   "execution_count": 46,
   "metadata": {
    "collapsed": false
   },
   "outputs": [],
   "source": [
    "# Split dataset （80% train vs. 20% test）\n",
    "from sklearn.model_selection import train_test_split\n",
    "X_train, X_test, y_train, y_test = train_test_split(X, y, train_size = 0.8, random_state = 460475789)"
   ]
  },
  {
   "cell_type": "markdown",
   "metadata": {},
   "source": [
    "### Handeling imbalanced dataset - on train set only"
   ]
  },
  {
   "cell_type": "code",
   "execution_count": 48,
   "metadata": {
    "collapsed": true
   },
   "outputs": [],
   "source": [
    "# Handle imbalanced dataset - on train data\n",
    "from sklearn.utils import resample\n",
    "df1 = pd.concat([X_train, y_train], axis=1)\n",
    "\n",
    "df1_majo = df1[df1['RESP']==0]\n",
    "df1_mino = df1[df1['RESP']==1]\n",
    "\n",
    "# type1: minority upsample\n",
    "df1_mino_upsampled = resample(df1_mino, replace=True, n_samples=(len(df1_majo)))\n",
    "\n",
    "df1_upsampled = pd.concat([df1_majo, df1_mino_upsampled])\n",
    "\n",
    "df1_upsampled['RESP'].value_counts()\n",
    "X_train1 = df1_upsampled.iloc[:, :-1]\n",
    "y_train1 = df1_upsampled.iloc[:,-1]\n",
    "\n",
    "# type2: majority downsample\n",
    "df1_majo_downsampled = resample(df1_majo, replace=False, n_samples=(len(df1_mino)))\n",
    "\n",
    "df1_downsampled = pd.concat([df1_mino, df1_majo_downsampled])\n",
    "X_train2 = df1_downsampled.iloc[:, :-1]\n",
    "y_train2 = df1_downsampled.iloc[:,-1]"
   ]
  },
  {
   "cell_type": "markdown",
   "metadata": {},
   "source": [
    "after check with LogisticRegression L1 & L2, type1 works better, and L2 is same as incite funtion 'class_weight'. Since L1 type is slightly better,therefore, Type1 data, will be used on following Modeling, but not evalution(which based on test data)."
   ]
  },
  {
   "cell_type": "code",
   "execution_count": 49,
   "metadata": {
    "collapsed": false
   },
   "outputs": [],
   "source": [
    "X_train = X_train1\n",
    "y_train = y_train1"
   ]
  },
  {
   "cell_type": "markdown",
   "metadata": {},
   "source": [
    "#### baseline model performance"
   ]
  },
  {
   "cell_type": "code",
   "execution_count": 53,
   "metadata": {
    "collapsed": false
   },
   "outputs": [
    {
     "name": "stdout",
     "output_type": "stream",
     "text": [
      "testset clients num: 1445\n",
      "testset +ve response: 758\n",
      "testset -ve response: 687\n"
     ]
    }
   ],
   "source": [
    "num_response0 = y_test[y_test ==0].count()\n",
    "num_response1 = y_test[y_test ==1].count()\n",
    "print(\"testset clients num: {0}\".format(y_test.count()))\n",
    "print(\"testset +ve response: {0}\".format(num_response1))\n",
    "print(\"testset -ve response: {0}\".format(num_response0))"
   ]
  },
  {
   "cell_type": "markdown",
   "metadata": {},
   "source": [
    "####  Model1: Naive bayes "
   ]
  },
  {
   "cell_type": "code",
   "execution_count": 56,
   "metadata": {
    "collapsed": false
   },
   "outputs": [
    {
     "name": "stdout",
     "output_type": "stream",
     "text": [
      "             Combined Naive Bayes\n",
      "Error rate               0.280000\n",
      "SE                       0.012000\n",
      "Sensitivity              0.689974\n",
      "Specificity              0.752547\n",
      "AUC                      0.795000\n",
      "Precision                0.755000\n"
     ]
    }
   ],
   "source": [
    "from sklearn.naive_bayes import GaussianNB, BernoulliNB\n",
    "X_train_num = X_train.iloc[:, :45]\n",
    "X_train_cat = X_train.iloc[:, 45:]\n",
    "\n",
    "X_test_num = X_test.iloc[:, :45]\n",
    "X_test_cat = X_test.iloc[:, 45:]\n",
    "\n",
    "# combine GNB & BNB.\n",
    "gnb = GaussianNB().fit(X_train_num, np.ravel(y_train))\n",
    "gnb_prob_train = gnb.predict_proba(X_train_num)\n",
    "gnb_prob_test = gnb.predict_proba(X_test_num)\n",
    "\n",
    "bnb = BernoulliNB().fit(X_train_cat, np.ravel(y_train))\n",
    "bnb_prob_train = bnb.predict_proba(X_train_cat)\n",
    "bnb_prob_test = bnb.predict_proba(X_test_cat)\n",
    "\n",
    "nb_train = np.hstack((gnb_prob_train, bnb_prob_train))\n",
    "nb_test = np.hstack((gnb_prob_test, bnb_prob_test))\n",
    "\n",
    "# combined NB model fit\n",
    "nb = GaussianNB().fit(nb_train, np.ravel(y_train))\n",
    "\n",
    "# predict\n",
    "from sklearn.metrics import confusion_matrix, accuracy_score, roc_auc_score, precision_score\n",
    "nb_pred = nb.predict(nb_test)\n",
    "nb_prob = nb.predict_proba(nb_test)\n",
    "\n",
    "nb_confusion = confusion_matrix(y_test, nb_pred)\n",
    "nb_mis = (1- accuracy_score(y_test, nb_pred)).round(3)\n",
    "nb_se = np.sqrt(nb_mis*(1- nb_mis)/len(y_test)).round(3)\n",
    "nb_sensi = nb_confusion[1,1]/np.sum(nb_confusion[1,:]).round(3)\n",
    "nb_speci = nb_confusion[0,0]/np.sum(nb_confusion[0,:]).round(3)\n",
    "nb_auc = roc_auc_score(y_test, nb_prob[:,1]).round(3)\n",
    "nb_precision = precision_score(y_test, nb_pred).round(3)\n",
    "\n",
    "columns = ['Combined Naive Bayes']\n",
    "rows = ['Error rate', 'SE', 'Sensitivity', 'Specificity', 'AUC', 'Precision']\n",
    "\n",
    "nb_score = pd.DataFrame([nb_mis, nb_se, nb_sensi, nb_speci, nb_auc, nb_precision], columns = columns, index = rows)\n",
    "print(nb_score)"
   ]
  },
  {
   "cell_type": "code",
   "execution_count": 58,
   "metadata": {
    "collapsed": false
   },
   "outputs": [
    {
     "name": "stdout",
     "output_type": "stream",
     "text": [
      "the 95% confidence interval is (27.13, 72.80)\n"
     ]
    }
   ],
   "source": [
    "# Confidence interval\n",
    "n_iterations = 1000\n",
    "n_size = len(y_train)\n",
    "train = nb_train\n",
    "test = nb_test\n",
    "\n",
    "accy = list()\n",
    "for i in range(n_iterations):\n",
    "    train = resample(train, n_samples=n_size)\n",
    "    nb = GaussianNB().fit(train, np.ravel(y_train))\n",
    "    y_pred = nb.predict(test)\n",
    "    score = accuracy_score(y_test, y_pred)\n",
    "    accy.append(score)\n",
    "\n",
    "alpha = 0.95\n",
    "p = ((1-alpha)/2) * 100\n",
    "ci_low = np.percentile(accy, p)\n",
    "q = (1-((1-alpha)/2)) * 100\n",
    "ci_high = np.percentile(accy, q)\n",
    "\n",
    "print('the %.0f%% confidence interval is (%.2f, %.2f)' % (alpha*100, ci_low*100, ci_high*100))"
   ]
  },
  {
   "cell_type": "code",
   "execution_count": null,
   "metadata": {
    "collapsed": true
   },
   "outputs": [],
   "source": []
  }
 ],
 "metadata": {
  "kernelspec": {
   "display_name": "Python 3",
   "language": "python",
   "name": "python3"
  },
  "language_info": {
   "codemirror_mode": {
    "name": "ipython",
    "version": 3
   },
   "file_extension": ".py",
   "mimetype": "text/x-python",
   "name": "python",
   "nbconvert_exporter": "python",
   "pygments_lexer": "ipython3",
   "version": "3.6.0"
  }
 },
 "nbformat": 4,
 "nbformat_minor": 2
}
