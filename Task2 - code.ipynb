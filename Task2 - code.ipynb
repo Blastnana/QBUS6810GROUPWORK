{
 "cells": [
  {
   "cell_type": "code",
   "execution_count": 1,
   "metadata": {
    "collapsed": true
   },
   "outputs": [],
   "source": [
    "import numpy as np\n",
    "import pandas as pd \n",
    "import matplotlib.pyplot as plt\n",
    "\n",
    "from sklearn.model_selection import train_test_split"
   ]
  },
  {
   "cell_type": "code",
   "execution_count": 2,
   "metadata": {
    "collapsed": true
   },
   "outputs": [],
   "source": [
    "df = pd.read_csv(\"Clothing_Store.csv\") # load CSV file"
   ]
  },
  {
   "cell_type": "markdown",
   "metadata": {},
   "source": [
    "### Data Cleaning ###"
   ]
  },
  {
   "cell_type": "code",
   "execution_count": 219,
   "metadata": {
    "collapsed": false
   },
   "outputs": [
    {
     "name": "stdout",
     "output_type": "stream",
     "text": [
      "(17392, 49) (17392,) (4348, 49) (4348,)\n"
     ]
    }
   ],
   "source": [
    "X = df.iloc[:, :-1]\n",
    "\n",
    "\n",
    "phone = pd.get_dummies(X['VALPHON'], drop_first=True) # Get dummy\n",
    "phone = phone.rename(columns = {'Y':'VALPHON'})\n",
    "\n",
    "X = X.drop('VALPHON', axis=1)\n",
    "X = X.drop('HHKEY', axis=1)\n",
    "\n",
    "# Cleaned Variables & target\n",
    "X = pd.concat([X, phone], axis=1)\n",
    "y = df.iloc[:,-1]\n",
    "\n",
    "# Split the data into training and test sets (80/20)\n",
    "X_train, X_test, y_train, y_test = train_test_split(X, y, train_size = 0.8, random_state = 460475789)\n",
    "\n",
    "X_train.to_csv('Clean X_train.csv')\n",
    "y_train.to_csv('Clean y_train.csv')\n",
    "\n",
    "X_test.to_csv('Clean X_test.csv')\n",
    "y_test.to_csv('Clean y_test.csv')\n",
    "\n",
    "print(X_train.shape, y_train.shape, X_test.shape, y_test.shape)"
   ]
  },
  {
   "cell_type": "markdown",
   "metadata": {},
   "source": [
    "we have 17392 customer information, with 49 features in training set"
   ]
  },
  {
   "cell_type": "markdown",
   "metadata": {},
   "source": [
    "## Data Understanding "
   ]
  },
  {
   "cell_type": "code",
   "execution_count": 220,
   "metadata": {
    "collapsed": true
   },
   "outputs": [],
   "source": [
    "import scipy as sp"
   ]
  },
  {
   "cell_type": "code",
   "execution_count": 221,
   "metadata": {
    "collapsed": false
   },
   "outputs": [
    {
     "data": {
      "text/plain": [
       "0"
      ]
     },
     "execution_count": 221,
     "metadata": {},
     "output_type": "execute_result"
    }
   ],
   "source": [
    "sp.sum(sp.isnan(y)) # missing value check"
   ]
  },
  {
   "cell_type": "code",
   "execution_count": 222,
   "metadata": {
    "collapsed": false
   },
   "outputs": [
    {
     "data": {
      "text/plain": [
       "16.582336706531738"
      ]
     },
     "execution_count": 222,
     "metadata": {},
     "output_type": "execute_result"
    }
   ],
   "source": [
    "float(sum(y_train))/float(len(y_train))*100 # % of +ve response"
   ]
  },
  {
   "cell_type": "code",
   "execution_count": 223,
   "metadata": {
    "collapsed": false
   },
   "outputs": [
    {
     "name": "stdout",
     "output_type": "stream",
     "text": [
      "corr +ve relationship w/ response only\n",
      "RESP            1.000000\n",
      "FRE             0.407606\n",
      "CLASSES         0.372776\n",
      "STYLES          0.364063\n",
      "RESPONDED       0.350589\n",
      "RESPONSERATE    0.331459\n",
      "MON             0.322801\n",
      "SMONSPEND       0.310150\n",
      "COUPONS         0.307182\n",
      "STORES          0.304242\n",
      "TMONSPEND       0.267705\n",
      "Name: RESP, dtype: float64\n",
      "corr +/- ve relationships w/ response\n",
      "RESP            1.000000\n",
      "FRE             0.407606\n",
      "CLASSES         0.372776\n",
      "STYLES          0.364063\n",
      "RESPONDED       0.350589\n",
      "RESPONSERATE    0.331459\n",
      "MON             0.322801\n",
      "SMONSPEND       0.310150\n",
      "LTFREDAY        0.307191\n",
      "COUPONS         0.307182\n",
      "STORES          0.304242\n",
      "Name: RESP, dtype: float64\n"
     ]
    }
   ],
   "source": [
    "# correlations between 50 variables & y\n",
    "corr_y = df.corr().RESP.sort_values(ascending = False)\n",
    "corr_y_abs = df.corr().RESP.abs().sort_values(ascending = False)\n",
    "print(\"corr +ve relationship w/ response only\")\n",
    "print(corr_y.head(11))\n",
    "\n",
    "print(\"corr +/- ve relationships w/ response\")\n",
    "print(corr_y_abs.head(11))"
   ]
  },
  {
   "cell_type": "markdown",
   "metadata": {},
   "source": [
    "corr above 0.3, only \"LTFREDAY\" shows -ve relationship w/ response"
   ]
  },
  {
   "cell_type": "code",
   "execution_count": 224,
   "metadata": {
    "collapsed": false
   },
   "outputs": [],
   "source": [
    "# plots for FRE , Classes, & LTFREDAY (univariate distribution)\n",
    "import matplotlib.pyplot as plt\n",
    "import seaborn as sns\n",
    "def hist(series):\n",
    "    fig, ax= plt.subplots()\n",
    "    sns.distplot(series, ax=ax, hist_kws={'alpha': 0.9, 'edgecolor':'black', 'color': sns.color_palette('Blues', n_colors=2)[-1]},  \n",
    "                 kde_kws={'color': 'black', 'alpha': 0.7})\n",
    "    return fig, ax"
   ]
  },
  {
   "cell_type": "code",
   "execution_count": 225,
   "metadata": {
    "collapsed": false
   },
   "outputs": [
    {
     "data": {
      "image/png": "[encoded data removed]",
      "text/plain": [
       "<matplotlib.figure.Figure at 0x1149a7828>"
      ]
     },
     "metadata": {},
     "output_type": "display_data"
    }
   ],
   "source": [
    "hist(X_train['FRE']) # FRE\n",
    "sns.despine()\n",
    "plt.show()"
   ]
  },
  {
   "cell_type": "code",
   "execution_count": 226,
   "metadata": {
    "collapsed": false
   },
   "outputs": [
    {
     "data": {
      "image/png": "[encoded data removed]",
      "text/plain": [
       "<matplotlib.figure.Figure at 0x1aad29d68>"
      ]
     },
     "metadata": {},
     "output_type": "display_data"
    }
   ],
   "source": [
    "hist(X_train['CLASSES']) # Classes\n",
    "sns.despine()\n",
    "plt.show()"
   ]
  },
  {
   "cell_type": "code",
   "execution_count": 227,
   "metadata": {
    "collapsed": false
   },
   "outputs": [
    {
     "data": {
      "image/png": "[encoded data removed]",
      "text/plain": [
       "<matplotlib.figure.Figure at 0x10fc9c748>"
      ]
     },
     "metadata": {},
     "output_type": "display_data"
    }
   ],
   "source": [
    "hist(X_train['LTFREDAY']) # Ltfreday\n",
    "sns.despine()\n",
    "plt.show()"
   ]
  },
  {
   "cell_type": "code",
   "execution_count": 228,
   "metadata": {
    "collapsed": false
   },
   "outputs": [
    {
     "data": {
      "image/png": "[encoded data removed]",
      "text/plain": [
       "<matplotlib.figure.Figure at 0x1111679b0>"
      ]
     },
     "metadata": {},
     "output_type": "display_data"
    }
   ],
   "source": [
    "hist(X_train['GMP']) # GMP - 画这个的原因是因为，随意看看\n",
    "sns.despine()\n",
    "plt.show()"
   ]
  },
  {
   "cell_type": "code",
   "execution_count": 229,
   "metadata": {
    "collapsed": false
   },
   "outputs": [
    {
     "data": {
      "image/png": "[encoded data removed]",
      "text/plain": [
       "<matplotlib.figure.Figure at 0x114ab4358>"
      ]
     },
     "metadata": {},
     "output_type": "display_data"
    }
   ],
   "source": [
    "hist(X_train['PROMOS']) # PROMOS - 画这个的原因是因为，随意看看\n",
    "sns.despine()\n",
    "plt.show()"
   ]
  },
  {
   "cell_type": "code",
   "execution_count": null,
   "metadata": {
    "collapsed": false
   },
   "outputs": [],
   "source": []
  },
  {
   "cell_type": "code",
   "execution_count": 230,
   "metadata": {
    "collapsed": false
   },
   "outputs": [
    {
     "data": {
      "image/png": "[encoded data removed]",
      "text/plain": [
       "<matplotlib.figure.Figure at 0x114f18470>"
      ]
     },
     "metadata": {},
     "output_type": "display_data"
    }
   ],
   "source": [
    "#把三个FLAG的变量【binary】画出来\n",
    "sns.regplot(X_train[\"VALPHON\"], y_train, color=sns.color_palette('Blues', n_colors=2)[-1], ci=None, logistic=True, y_jitter=0.05, \n",
    "            scatter_kws={'s': 25, 'color': sns.color_palette('Blues', n_colors=2)[-1], 'alpha': .5})\n",
    "sns.despine()\n",
    "plt.show()"
   ]
  },
  {
   "cell_type": "code",
   "execution_count": 231,
   "metadata": {
    "collapsed": false
   },
   "outputs": [
    {
     "data": {
      "image/png": "[encoded data removed]",
      "text/plain": [
       "<matplotlib.figure.Figure at 0x10fccc160>"
      ]
     },
     "metadata": {},
     "output_type": "display_data"
    }
   ],
   "source": [
    "sns.regplot(X_train[\"WEB\"], y_train, color=sns.color_palette('Blues', n_colors=2)[-1], ci=None, logistic=True, y_jitter=0.05, \n",
    "            scatter_kws={'s': 25, 'color': sns.color_palette('Blues', n_colors=2)[-1], 'alpha': .5})\n",
    "sns.despine()\n",
    "plt.show()"
   ]
  },
  {
   "cell_type": "code",
   "execution_count": 232,
   "metadata": {
    "collapsed": false
   },
   "outputs": [
    {
     "data": {
      "image/png": "[encoded data removed]",
      "text/plain": [
       "<matplotlib.figure.Figure at 0x10eba84e0>"
      ]
     },
     "metadata": {},
     "output_type": "display_data"
    }
   ],
   "source": [
    "sns.regplot(X_train[\"CC_CARD\"], y_train, color=sns.color_palette('Blues', n_colors=2)[-1], ci=None, logistic=True, y_jitter=0.05, \n",
    "            scatter_kws={'s': 25, 'color': sns.color_palette('Blues', n_colors=2)[-1], 'alpha': .5})\n",
    "sns.despine()\n",
    "plt.show()"
   ]
  },
  {
   "cell_type": "markdown",
   "metadata": {},
   "source": [
    "#### X们"
   ]
  },
  {
   "cell_type": "code",
   "execution_count": 233,
   "metadata": {
    "collapsed": false
   },
   "outputs": [
    {
     "name": "stdout",
     "output_type": "stream",
     "text": [
      "        ZIP_CODE        REC        FRE        MON    CC_CARD       AVRG  \\\n",
      "count  17392.000  17392.000  17392.000  17392.000  17392.000  17392.000   \n",
      "mean   48956.195    126.818      5.094    477.304      0.386    114.211   \n",
      "std    24043.618    104.665      6.429    654.513      0.487     87.020   \n",
      "min     1001.000      1.000      1.000      0.990      0.000      0.490   \n",
      "25%    30342.000     35.000      1.000    136.000      0.000     61.198   \n",
      "\n",
      "       PC_CALC20  PSWEATERS  PKNIT_TOPS  PKNIT_DRES    ...       STORELOY  \\\n",
      "count  17392.000  17392.000   17392.000   17392.000    ...      17392.000   \n",
      "mean      12.580      0.215       0.027       0.041    ...       2109.432   \n",
      "std        2.462      0.232       0.068       0.109    ...       1802.776   \n",
      "min       11.000      0.000       0.000       0.000    ...          3.000   \n",
      "25%       11.000      0.000       0.000       0.000    ...        337.000   \n",
      "\n",
      "             WEB     MAILED  RESPONDED  RESPONSERATE         HI   LTFREDAY  \\\n",
      "count  17392.000  17392.000  17392.000     17392.000  17392.000  17392.000   \n",
      "mean       0.041      4.670      1.204        17.366     37.940     80.386   \n",
      "std        0.199      3.555      1.849        24.690     28.209     78.910   \n",
      "min        0.000      0.000      0.000         0.000      0.050      0.090   \n",
      "25%        0.000      1.000      0.000         0.000     18.468     24.770   \n",
      "\n",
      "        CLUSTYPE    PERCRET    VALPHON  \n",
      "count  17392.000  17392.000  17392.000  \n",
      "mean      15.105      0.132      0.861  \n",
      "std       12.215      0.597      0.346  \n",
      "min        0.000      0.000      0.000  \n",
      "25%        5.000      0.000      1.000  \n",
      "\n",
      "[5 rows x 49 columns]\n"
     ]
    }
   ],
   "source": [
    "# Descriptive analysis + skew & kurt\n",
    "descrip = X_train.describe()\n",
    "descrip.loc['skew', :] = X_train.skew()\n",
    "descrip.loc['kurt', :] = X_train.kurt()\n",
    "print(descrip.round(3).head(5))\n",
    "\n",
    "descrip.to_csv('descriptive for X_train.csv')"
   ]
  },
  {
   "cell_type": "markdown",
   "metadata": {},
   "source": [
    "## Variable selection"
   ]
  },
  {
   "cell_type": "code",
   "execution_count": 234,
   "metadata": {
    "collapsed": false
   },
   "outputs": [],
   "source": [
    "from statlearning import forward  # Forward method\n",
    "\n",
    "fwd = forward()\n",
    "fwd.fit(X_train, y_train)"
   ]
  },
  {
   "cell_type": "code",
   "execution_count": 240,
   "metadata": {
    "collapsed": false
   },
   "outputs": [
    {
     "name": "stdout",
     "output_type": "stream",
     "text": [
      "[2, 45, 40, 4, 26, 43, 33, 3, 28, 47, 35, 44, 11, 30, 27, 24, 18, 5, 1, 48]\n"
     ]
    }
   ],
   "source": [
    "idx = fwd.subset\n",
    "print(idx)"
   ]
  },
  {
   "cell_type": "code",
   "execution_count": 242,
   "metadata": {
    "collapsed": false
   },
   "outputs": [
    {
     "data": {
      "text/html": [
       "<div>\n",
       "<table border=\"1\" class=\"dataframe\">\n",
       "  <thead>\n",
       "    <tr style=\"text-align: right;\">\n",
       "      <th></th>\n",
       "      <th>FRE</th>\n",
       "      <th>LTFREDAY</th>\n",
       "      <th>WEB</th>\n",
       "      <th>CC_CARD</th>\n",
       "      <th>TMONSPEND</th>\n",
       "      <th>RESPONSERATE</th>\n",
       "      <th>FREDAYS</th>\n",
       "      <th>MON</th>\n",
       "      <th>SMONSPEND</th>\n",
       "      <th>PERCRET</th>\n",
       "      <th>CLASSES</th>\n",
       "      <th>HI</th>\n",
       "      <th>PJACKETS</th>\n",
       "      <th>GMP</th>\n",
       "      <th>OMONSPEND</th>\n",
       "      <th>CCSPEND</th>\n",
       "      <th>PJEWELRY</th>\n",
       "      <th>AVRG</th>\n",
       "      <th>REC</th>\n",
       "      <th>VALPHON</th>\n",
       "    </tr>\n",
       "  </thead>\n",
       "  <tbody>\n",
       "    <tr>\n",
       "      <th>18411</th>\n",
       "      <td>7</td>\n",
       "      <td>19.42</td>\n",
       "      <td>0</td>\n",
       "      <td>0</td>\n",
       "      <td>132.88</td>\n",
       "      <td>100.00</td>\n",
       "      <td>19.42</td>\n",
       "      <td>397.83</td>\n",
       "      <td>397.83</td>\n",
       "      <td>0.03</td>\n",
       "      <td>12</td>\n",
       "      <td>11.30</td>\n",
       "      <td>0.19</td>\n",
       "      <td>0.47</td>\n",
       "      <td>52.0</td>\n",
       "      <td>177.96</td>\n",
       "      <td>0.06</td>\n",
       "      <td>56.83</td>\n",
       "      <td>8</td>\n",
       "      <td>1</td>\n",
       "    </tr>\n",
       "    <tr>\n",
       "      <th>19079</th>\n",
       "      <td>18</td>\n",
       "      <td>14.35</td>\n",
       "      <td>0</td>\n",
       "      <td>1</td>\n",
       "      <td>79.78</td>\n",
       "      <td>55.56</td>\n",
       "      <td>29.50</td>\n",
       "      <td>1064.35</td>\n",
       "      <td>684.68</td>\n",
       "      <td>0.28</td>\n",
       "      <td>12</td>\n",
       "      <td>12.83</td>\n",
       "      <td>0.08</td>\n",
       "      <td>0.49</td>\n",
       "      <td>79.0</td>\n",
       "      <td>78.33</td>\n",
       "      <td>0.00</td>\n",
       "      <td>59.13</td>\n",
       "      <td>1</td>\n",
       "      <td>1</td>\n",
       "    </tr>\n",
       "    <tr>\n",
       "      <th>20625</th>\n",
       "      <td>3</td>\n",
       "      <td>104.50</td>\n",
       "      <td>0</td>\n",
       "      <td>0</td>\n",
       "      <td>0.00</td>\n",
       "      <td>0.00</td>\n",
       "      <td>139.33</td>\n",
       "      <td>262.70</td>\n",
       "      <td>0.00</td>\n",
       "      <td>0.00</td>\n",
       "      <td>5</td>\n",
       "      <td>71.90</td>\n",
       "      <td>0.37</td>\n",
       "      <td>0.58</td>\n",
       "      <td>0.0</td>\n",
       "      <td>211.98</td>\n",
       "      <td>0.00</td>\n",
       "      <td>87.56</td>\n",
       "      <td>236</td>\n",
       "      <td>1</td>\n",
       "    </tr>\n",
       "    <tr>\n",
       "      <th>5085</th>\n",
       "      <td>8</td>\n",
       "      <td>17.91</td>\n",
       "      <td>0</td>\n",
       "      <td>0</td>\n",
       "      <td>67.49</td>\n",
       "      <td>50.00</td>\n",
       "      <td>26.87</td>\n",
       "      <td>895.42</td>\n",
       "      <td>562.45</td>\n",
       "      <td>0.00</td>\n",
       "      <td>13</td>\n",
       "      <td>24.54</td>\n",
       "      <td>0.03</td>\n",
       "      <td>0.54</td>\n",
       "      <td>47.5</td>\n",
       "      <td>885.42</td>\n",
       "      <td>0.02</td>\n",
       "      <td>111.92</td>\n",
       "      <td>22</td>\n",
       "      <td>1</td>\n",
       "    </tr>\n",
       "    <tr>\n",
       "      <th>6502</th>\n",
       "      <td>5</td>\n",
       "      <td>28.00</td>\n",
       "      <td>0</td>\n",
       "      <td>0</td>\n",
       "      <td>0.00</td>\n",
       "      <td>42.86</td>\n",
       "      <td>89.60</td>\n",
       "      <td>997.98</td>\n",
       "      <td>736.99</td>\n",
       "      <td>0.15</td>\n",
       "      <td>10</td>\n",
       "      <td>13.02</td>\n",
       "      <td>0.00</td>\n",
       "      <td>0.65</td>\n",
       "      <td>0.0</td>\n",
       "      <td>475.00</td>\n",
       "      <td>0.00</td>\n",
       "      <td>199.59</td>\n",
       "      <td>143</td>\n",
       "      <td>1</td>\n",
       "    </tr>\n",
       "  </tbody>\n",
       "</table>\n",
       "</div>"
      ],
      "text/plain": [
       "       FRE  LTFREDAY  WEB  CC_CARD  TMONSPEND  RESPONSERATE  FREDAYS      MON  \\\n",
       "18411    7     19.42    0        0     132.88        100.00    19.42   397.83   \n",
       "19079   18     14.35    0        1      79.78         55.56    29.50  1064.35   \n",
       "20625    3    104.50    0        0       0.00          0.00   139.33   262.70   \n",
       "5085     8     17.91    0        0      67.49         50.00    26.87   895.42   \n",
       "6502     5     28.00    0        0       0.00         42.86    89.60   997.98   \n",
       "\n",
       "       SMONSPEND  PERCRET  CLASSES     HI  PJACKETS   GMP  OMONSPEND  CCSPEND  \\\n",
       "18411     397.83     0.03       12  11.30      0.19  0.47       52.0   177.96   \n",
       "19079     684.68     0.28       12  12.83      0.08  0.49       79.0    78.33   \n",
       "20625       0.00     0.00        5  71.90      0.37  0.58        0.0   211.98   \n",
       "5085      562.45     0.00       13  24.54      0.03  0.54       47.5   885.42   \n",
       "6502      736.99     0.15       10  13.02      0.00  0.65        0.0   475.00   \n",
       "\n",
       "       PJEWELRY    AVRG  REC  VALPHON  \n",
       "18411      0.06   56.83    8        1  \n",
       "19079      0.00   59.13    1        1  \n",
       "20625      0.00   87.56  236        1  \n",
       "5085       0.02  111.92   22        1  \n",
       "6502       0.00  199.59  143        1  "
      ]
     },
     "execution_count": 242,
     "metadata": {},
     "output_type": "execute_result"
    }
   ],
   "source": [
    "X_train[idx].head(5)"
   ]
  },
  {
   "cell_type": "markdown",
   "metadata": {},
   "source": [
    "#### Dimension reduction methods"
   ]
  },
  {
   "cell_type": "code",
   "execution_count": 243,
   "metadata": {
    "collapsed": true
   },
   "outputs": [],
   "source": [
    "from statlearning import pcrCV\n",
    "pcr=pcrCV(X_train, y_train)"
   ]
  },
  {
   "cell_type": "code",
   "execution_count": 244,
   "metadata": {
    "collapsed": false
   },
   "outputs": [
    {
     "data": {
      "text/plain": [
       "0.33277090049685981"
      ]
     },
     "execution_count": 244,
     "metadata": {},
     "output_type": "execute_result"
    }
   ],
   "source": [
    "from sklearn.model_selection import KFold\n",
    "from sklearn.model_selection import cross_val_score\n",
    "# Cross validator\n",
    "kf=KFold(len(X_train), shuffle=True, random_state=1) \n",
    "\n",
    "pcr.cv_score(X_train, np.ravel(y_train), cv=5)"
   ]
  },
  {
   "cell_type": "code",
   "execution_count": 248,
   "metadata": {
    "collapsed": false
   },
   "outputs": [
    {
     "data": {
      "text/plain": [
       "PCA(copy=True, iterated_power='auto', n_components=20, random_state=None,\n",
       "  svd_solver='auto', tol=0.0, whiten=False)"
      ]
     },
     "execution_count": 248,
     "metadata": {},
     "output_type": "execute_result"
    }
   ],
   "source": [
    "from sklearn.decomposition import PCA\n",
    "pca = decomposition.PCA(n_components = 20)\n",
    "pca.fit(X_train, y_train)"
   ]
  },
  {
   "cell_type": "code",
   "execution_count": 249,
   "metadata": {
    "collapsed": false
   },
   "outputs": [
    {
     "name": "stdout",
     "output_type": "stream",
     "text": [
      "[  9.92524469e-01   5.57141409e-03   1.30118829e-03   2.97496077e-04\n",
      "   7.52046262e-05   5.72960552e-05   4.82622216e-05   4.04481380e-05\n",
      "   2.58342836e-05   1.77604282e-05   1.25043070e-05   9.90947621e-06\n",
      "   6.42176382e-06   6.19205478e-06   3.80099528e-06   7.76258137e-07\n",
      "   5.38168281e-07   2.54537187e-07   1.34717473e-07   4.87995419e-08]\n",
      "[[  9.99991695e-01   9.66221432e-05  -7.76130607e-06  -8.40910774e-04\n",
      "   -9.66389290e-07   4.82299075e-05  -4.01792892e-06  -3.40961407e-07\n",
      "   -3.49651369e-08  -2.14706917e-08   1.17201477e-07  -8.17416363e-08\n",
      "   -2.55666054e-08  -4.42355283e-08   2.80568364e-08   7.11786808e-08\n",
      "    1.13459234e-07   1.13050818e-07   1.86393799e-08   9.97028019e-08\n",
      "    3.84416348e-09   1.44791164e-07  -1.59845664e-04  -6.59795331e-04\n",
      "    9.65681975e-05  -1.18265963e-04  -1.38685633e-04  -5.92737038e-05\n",
      "   -4.85011275e-04  -7.62072102e-05   6.48871676e-08  -1.87995672e-05\n",
      "   -2.89357853e-04   7.03002370e-05  -5.99159743e-08  -4.99437711e-06\n",
      "   -2.64052158e-06  -3.19524510e-05  -3.53283416e-07  -3.87824204e-03\n",
      "   -6.50237652e-08  -1.55076538e-06  -2.06465668e-06  -3.82858158e-05\n",
      "    2.23045419e-05   9.46955382e-05  -2.36990229e-05   2.02624901e-07\n",
      "   -5.69641159e-07]\n",
      " [  3.91707477e-03  -5.47444074e-03   2.22138463e-04   1.91218874e-02\n",
      "    7.65336773e-06  -6.69849595e-04   3.66612950e-04  -1.19737707e-06\n",
      "    7.91748724e-07   1.03962819e-06   4.79968958e-07  -1.72958665e-07\n",
      "   -1.28368284e-06   1.06105550e-06   1.08262341e-07   4.87774933e-07\n",
      "   -1.98907158e-06  -6.52421869e-07   1.98211355e-07  -1.97189591e-07\n",
      "   -4.53489893e-08  -2.63502656e-06   6.15905093e-03   1.89949270e-02\n",
      "   -1.39297482e-02   7.87086077e-03   5.48138272e-03   1.78907147e-03\n",
      "    1.16372770e-02   1.25575620e-03  -2.83854162e-06   5.04720065e-05\n",
      "    4.62378791e-03  -5.01354844e-03   2.02498014e-06   2.43387597e-04\n",
      "    3.54452376e-05   8.52354303e-04   1.14012999e-04   9.99341100e-01\n",
      "   -4.34839636e-06   3.99397220e-05   4.69828645e-05   8.96714621e-04\n",
      "   -1.20580293e-03  -5.58675725e-03   6.49351934e-05   7.20353782e-07\n",
      "    5.98111014e-06]\n",
      " [  9.55526078e-04  -4.70983334e-02   5.30242023e-03   7.44733030e-01\n",
      "    1.99774000e-04   2.23391850e-02   3.02811065e-04  -1.91172105e-05\n",
      "   -2.32431140e-06  -1.64338791e-06  -3.40733043e-06   1.56631347e-05\n",
      "    8.70468603e-07  -6.43910360e-06   1.36425211e-06  -5.88787454e-06\n",
      "   -2.88300876e-06  -1.16914281e-06  -9.29070070e-07  -6.59831326e-07\n",
      "   -1.87826051e-06  -7.44355149e-06   2.78829016e-02   2.87580295e-01\n",
      "    3.98989789e-01   3.02801886e-02   1.61033111e-01   6.36358256e-02\n",
      "    3.93392578e-01   6.25978638e-02   5.10013135e-06   3.49611253e-03\n",
      "    6.28060844e-02  -6.10268157e-02   1.04701979e-05   4.61251114e-03\n",
      "    1.43285408e-03   2.62306719e-02   9.10464466e-04  -2.13064751e-02\n",
      "    4.90717042e-05   1.55061553e-03   1.43256631e-03   1.64855565e-02\n",
      "   -1.19389563e-02  -3.33640406e-02  -1.96560867e-04   5.91274284e-06\n",
      "    5.46438938e-05]\n",
      " [ -5.22929014e-04   8.24956870e-03  -9.40133447e-04  -6.05380216e-02\n",
      "   -1.43948312e-05   1.21077018e-02  -2.67512492e-03  -3.15267111e-06\n",
      "   -5.09685022e-06  -5.08215165e-06   1.09352701e-06   1.63925512e-05\n",
      "    1.23375717e-05  -1.23545610e-05  -3.63072145e-06  -1.22810673e-05\n",
      "    6.80685069e-06   1.33797681e-06   5.06373100e-07   5.20070475e-06\n",
      "    1.97405256e-07   2.20626359e-05  -2.33832169e-03  -7.29855274e-01\n",
      "    6.79168373e-01  -7.25674776e-03  -1.67895023e-02  -7.92846488e-03\n",
      "   -2.34547301e-02  -1.83887652e-02   1.26593597e-05   8.99552205e-04\n",
      "   -9.70804050e-03   7.63288439e-03  -1.21559524e-05  -3.84994855e-04\n",
      "   -1.23482278e-04  -4.21203558e-03  -5.83530152e-04   2.51594135e-02\n",
      "   -3.96291648e-07  -1.52637101e-04  -2.24760756e-04  -1.67638959e-03\n",
      "    1.31291218e-03   7.30501261e-03   3.24718615e-04  -4.36604281e-06\n",
      "    2.50157044e-06]\n",
      " [ -8.30390570e-05  -1.57836745e-01  -2.58343852e-03  -1.36813892e-01\n",
      "   -9.53378654e-05   1.20134784e-02   4.53450240e-04  -1.01022436e-04\n",
      "    1.07531591e-05  -2.29067280e-06   3.39107784e-05   1.83111435e-05\n",
      "    5.21134952e-06   1.12651404e-05   1.69095006e-05   9.22566248e-05\n",
      "   -1.75169096e-05  -2.78041640e-05  -1.31787760e-06   2.78227822e-06\n",
      "   -1.05291355e-05   8.40074786e-06   1.45727717e-01  -1.74514264e-01\n",
      "   -1.80516081e-01   7.23023983e-02   3.15849565e-01   1.15573221e-01\n",
      "    4.59311084e-01  -1.42982811e-01  -2.67036092e-05  -1.47980447e-02\n",
      "   -6.49002554e-01  -3.09378647e-01   1.12972092e-05  -1.78469119e-03\n",
      "   -2.97402578e-04  -5.93044732e-03  -1.77565648e-04  -4.93920119e-03\n",
      "    4.25503255e-05  -7.97087237e-03  -1.84956358e-03  -6.85067047e-03\n",
      "    2.58656369e-04  -6.97405593e-02   2.21165023e-03  -5.11922566e-05\n",
      "    7.40315468e-05]\n",
      " [  2.45288604e-04  -9.30221085e-02   2.89803880e-03   4.55096925e-02\n",
      "    2.59586760e-04  -6.61571078e-02   2.17452063e-03   1.65316027e-05\n",
      "    1.77977968e-05   1.47482214e-05   1.10055233e-05  -4.86798034e-05\n",
      "   -1.91891985e-05   1.21914762e-05  -4.11544807e-06  -1.08596052e-05\n",
      "   -3.17619426e-05  -1.82583959e-05   3.33172148e-06   6.68133722e-06\n",
      "    1.38731409e-05  -6.94776814e-05   5.21152770e-01  -3.33398640e-01\n",
      "   -3.27721450e-01   1.85520181e-01   1.50140185e-01   7.09252224e-02\n",
      "    2.99977223e-01  -4.29802547e-02  -6.41951717e-05   7.25330102e-03\n",
      "    5.55573454e-01   1.76397638e-01   4.67215686e-05   2.93428588e-03\n",
      "    1.84770695e-04   4.59952820e-03   1.25107130e-03  -1.05620056e-02\n",
      "    4.91035622e-05   4.14571360e-03   1.14336932e-03   1.62154420e-02\n",
      "   -1.42224554e-02  -2.11758873e-02  -6.81201745e-05   6.28847330e-05\n",
      "    9.44013958e-05]\n",
      " [  1.28668631e-06   2.09285581e-01  -1.57767073e-03   3.82908551e-01\n",
      "   -2.56899831e-04   9.76256381e-02   5.87127994e-04   2.66528191e-06\n",
      "   -1.32127088e-05  -3.05284149e-06  -1.93803687e-06   5.36536644e-05\n",
      "    2.72541648e-05  -1.85516492e-05  -9.53680227e-06  -2.77149352e-05\n",
      "    3.06447377e-05   3.42176230e-05  -5.90909702e-08  -9.37889064e-06\n",
      "   -1.19503439e-05   7.25969532e-05   5.74921545e-01  -1.27446688e-01\n",
      "   -1.27627173e-01   6.28200665e-02  -3.53620307e-01  -1.70523619e-01\n",
      "   -3.20492856e-01   1.60962309e-01   5.85936604e-05  -2.07328977e-03\n",
      "   -3.77087861e-01  -4.10139988e-02  -7.02812125e-05  -1.25999809e-03\n",
      "   -3.16610435e-04   4.80078007e-03  -5.54160211e-04  -1.73786048e-03\n",
      "   -4.05354389e-05  -2.59508314e-03  -9.35991418e-04  -1.40841060e-02\n",
      "    1.96094720e-02   7.60316264e-02   1.76676394e-03  -1.17497317e-04\n",
      "   -1.68136116e-04]\n",
      " [ -8.45558539e-05   3.83129607e-01  -1.45650280e-02  -6.19440956e-02\n",
      "   -6.95415577e-04   2.80700639e-01  -2.36152413e-03   4.28839341e-05\n",
      "   -3.44394710e-05   9.35385829e-06   2.94129915e-05   1.35512594e-04\n",
      "    5.49874780e-05  -2.31548654e-05   3.47321862e-05   1.47787399e-05\n",
      "    7.17609162e-05   2.58875467e-05  -1.88080910e-06   2.16134560e-06\n",
      "   -1.27377804e-05   1.54435600e-04   1.00854340e-02   3.97719856e-02\n",
      "    2.10058575e-02  -1.34207171e-01   1.52333229e-01   7.26426815e-02\n",
      "    2.24227706e-01  -8.40820932e-02   2.10450758e-04  -1.13080962e-02\n",
      "   -2.11120109e-01   7.06743198e-01  -2.11165718e-04  -1.33092137e-02\n",
      "   -1.25651363e-03  -2.08684097e-02  -3.98389868e-03   7.08182664e-03\n",
      "   -7.23560970e-05  -4.88040124e-03  -4.01867164e-03  -5.46567109e-02\n",
      "    8.45212823e-02   3.30688273e-01   2.17463147e-03  -6.34409695e-04\n",
      "   -2.58602083e-04]\n",
      " [ -7.58782679e-07   9.88846278e-02   2.17197024e-03   1.67739141e-01\n",
      "    2.13557939e-05   3.77809145e-02   1.03957693e-03   2.78104920e-05\n",
      "   -2.34804803e-06  -7.88000848e-07  -1.69405746e-05   5.56696656e-05\n",
      "    2.21415933e-05  -2.44497469e-05   1.21000523e-05  -2.39979031e-05\n",
      "    2.50346453e-05   6.13560537e-06   1.31809912e-06  -1.29606915e-05\n",
      "   -4.05889138e-07   4.62087343e-06  -3.91255896e-01  -1.50359580e-01\n",
      "   -1.43206073e-01   8.52329712e-01   5.23017434e-02   4.42630141e-02\n",
      "   -9.81332559e-02   6.38108661e-02   4.24127240e-07   1.15270926e-03\n",
      "   -7.36251726e-02   9.32270042e-02  -3.40035811e-05   1.84324283e-03\n",
      "    1.03632654e-04   1.87096607e-02   1.40910463e-03  -4.18437374e-03\n",
      "   -4.27505236e-05  -1.49225191e-03  -6.82697158e-04  -3.22621625e-03\n",
      "    1.24491288e-02   7.02603490e-02   1.26422455e-03  -1.73613160e-04\n",
      "   -9.11747136e-05]\n",
      " [ -5.74630486e-05  -4.03481035e-02   1.04445878e-04   5.48603570e-02\n",
      "    1.03029371e-04   3.53712997e-02   4.22593154e-06   3.95353821e-05\n",
      "   -2.55887706e-05   2.19939091e-05  -1.53658604e-05   4.34724346e-05\n",
      "    4.23552184e-05  -3.80400911e-05   9.07061889e-06  -1.07599121e-04\n",
      "    1.51423901e-05   3.05615036e-05   3.09282724e-06   7.03472218e-06\n",
      "    1.48834013e-07   5.47641841e-05   1.30539293e-01   1.71956354e-04\n",
      "    1.58766987e-02  -9.12079311e-02   6.68928920e-01   4.03549904e-01\n",
      "   -5.13641934e-01   3.06320733e-01  -8.03243389e-05   1.90148295e-03\n",
      "   -1.91701364e-02  -3.53141975e-03   1.01374735e-04   1.28426764e-03\n",
      "   -8.42944743e-04   2.83482333e-03   1.66118409e-04   2.12401365e-04\n",
      "    1.23567099e-05   1.18236019e-03   9.93173735e-05  -6.34738906e-03\n",
      "    4.14779716e-03   7.84254604e-03   2.52386508e-03  -3.22352311e-05\n",
      "   -7.03613804e-05]\n",
      " [  1.22246405e-05  -4.43348590e-03  -1.50333460e-03  -1.77361392e-01\n",
      "   -2.37104453e-05   1.52691508e-02  -5.39181749e-04  -1.58585196e-05\n",
      "    1.03534426e-05  -4.55066133e-06   1.92959060e-06  -3.50815819e-05\n",
      "   -2.55096462e-05   2.60179331e-05   1.13679869e-05   2.67628996e-05\n",
      "   -3.12065753e-05  -1.81661858e-05  -6.33925686e-07  -3.93829374e-06\n",
      "   -1.92753929e-06  -5.73816234e-05  -7.14442884e-02  -4.11417704e-02\n",
      "   -2.90064566e-02  -3.47455349e-02  -1.23827026e-01  -4.69137841e-02\n",
      "    3.18178218e-01   9.16480239e-01   3.73376917e-05   6.02198813e-04\n",
      "   -1.52216885e-02   1.74964684e-02  -6.27104020e-05  -7.34350013e-04\n",
      "    4.15706931e-04  -8.90431788e-04  -3.07323401e-04   4.89137163e-04\n",
      "    1.97513115e-05   6.18525005e-04   1.34137843e-03   1.20816974e-02\n",
      "   -3.27380338e-03  -5.95179528e-03   4.51609820e-04   2.13296063e-04\n",
      "   -8.01262513e-07]\n",
      " [  1.87548800e-05   3.72339048e-01   1.59321058e-02   7.66298825e-03\n",
      "   -9.90141747e-04  -8.68835967e-01  -3.25338899e-03   4.81010224e-04\n",
      "    3.80354606e-05   4.84625990e-05  -4.26666897e-05  -4.85680065e-04\n",
      "   -1.82223178e-04   7.86082873e-05  -8.48082448e-05  -5.49447542e-05\n",
      "   -9.80702953e-05   1.89814738e-05   1.49051751e-05   2.71923438e-05\n",
      "    2.41831833e-05  -2.54886205e-04   1.10183129e-02   4.34273163e-03\n",
      "    1.69850258e-02  -2.32595093e-02   6.59913646e-02   3.61479957e-02\n",
      "    4.94559322e-02   1.43343130e-02  -3.18553120e-04  -3.19869925e-03\n",
      "   -5.05420643e-02  -5.20744853e-02   2.18915273e-04  -8.02927927e-03\n",
      "    2.08187775e-03   3.18928866e-02   5.28263823e-04   2.21559893e-03\n",
      "    2.79406772e-05  -2.91924405e-03   1.25214178e-03   7.43334009e-03\n",
      "    7.77416443e-02   2.90505255e-01   3.04562236e-03   7.18766441e-04\n",
      "   -5.78157796e-04]\n",
      " [ -2.63832322e-06   6.48192852e-01  -3.14344934e-03  -7.29474642e-02\n",
      "    3.20150053e-04   3.09449346e-01   1.39691752e-03   1.97639013e-05\n",
      "   -7.38841709e-05   3.31105500e-06  -1.02849871e-04   1.99293511e-04\n",
      "    4.76815281e-05  -8.83946755e-05   1.97174945e-05  -2.35479145e-04\n",
      "    1.39257862e-05   5.42870650e-05  -1.90716702e-06  -5.40183089e-05\n",
      "   -1.41814473e-05   8.80208337e-05  -1.74424099e-02  -1.74281976e-02\n",
      "   -2.52449772e-02  -1.25467088e-02   2.88031495e-01  -3.27382100e-01\n",
      "    6.79785942e-02  -7.94831766e-03   1.33805675e-04   1.79317363e-02\n",
      "    2.24308450e-01  -4.75548795e-01  -9.61140944e-05   5.76184877e-03\n",
      "   -1.45173592e-03  -1.24913048e-02   1.14352627e-03   2.88204941e-04\n",
      "    7.43571413e-06   8.27142796e-03  -4.08054371e-04  -2.01102135e-02\n",
      "   -6.20253881e-02   3.50613347e-02  -7.58765077e-04   4.26275732e-04\n",
      "   -3.48639767e-04]\n",
      " [ -8.91474931e-06  -2.77572478e-01   3.62447476e-03   3.40838066e-02\n",
      "   -1.96405316e-04  -1.52929658e-01  -4.48922971e-04  -8.41499485e-05\n",
      "    4.76973850e-05   3.28843759e-07   9.35136670e-05  -9.82303618e-05\n",
      "   -4.13103337e-05   4.68346656e-05   1.20803850e-07   1.95042757e-04\n",
      "   -2.95131800e-05  -3.57030119e-05  -2.16374684e-06   1.87177477e-05\n",
      "    4.18939119e-06  -2.15379506e-05   3.85890038e-03   7.22905447e-03\n",
      "    1.17131835e-02   1.08394286e-02   3.87240658e-01  -8.15022329e-01\n",
      "   -9.32360533e-02   4.58203884e-02  -2.66217265e-04  -1.11678074e-02\n",
      "   -8.97210416e-02   2.46657015e-01   2.38557157e-04  -2.22348441e-03\n",
      "   -1.69628230e-04   1.36450892e-02  -5.25058096e-05  -6.28131016e-04\n",
      "   -9.89207927e-07  -4.56803529e-03  -9.34363021e-04  -6.25320561e-03\n",
      "    2.60812431e-02  -5.56962796e-02   3.25969712e-03  -2.55632680e-04\n",
      "    2.29972509e-04]\n",
      " [  1.67593475e-05   3.52691118e-01  -6.28124701e-04   2.97228729e-03\n",
      "    9.90827201e-04  -1.53220480e-01   5.11071310e-03   1.50750784e-04\n",
      "   -2.15059915e-06   1.75243470e-05   1.09651782e-07  -8.30185597e-05\n",
      "   -3.49775098e-05   1.02635326e-05  -3.66125648e-06  -1.08244292e-04\n",
      "   -1.44971159e-04  -1.03581609e-04   5.79764618e-06   2.79186988e-05\n",
      "    3.32296280e-05  -1.58150615e-04   1.72661297e-03  -2.55047083e-03\n",
      "    2.65675515e-03   1.70359794e-03   1.17873714e-02   5.73057539e-02\n",
      "    7.78317907e-03  -5.05326844e-03  -2.03567666e-04   7.15836702e-03\n",
      "   -8.99831211e-02   2.48422518e-01   1.43475586e-04  -2.41265630e-03\n",
      "    2.10376581e-04   8.80568315e-03   1.65350238e-03  -1.72717228e-03\n",
      "    2.02508840e-04   4.24352008e-03  -1.62662195e-03  -1.75003241e-02\n",
      "   -4.35645571e-02  -8.81129987e-01   9.40871581e-04   6.56613115e-04\n",
      "    4.92881312e-04]\n",
      " [  4.04966619e-06  -1.04909440e-02  -2.27280516e-02   3.25011498e-03\n",
      "   -1.07194474e-03   5.08736436e-02  -4.38295001e-03   1.41071953e-03\n",
      "   -2.61434043e-04  -2.76364668e-04  -6.71106398e-04   1.05442598e-03\n",
      "    3.42009940e-04  -6.62405595e-04  -2.03019821e-04   7.73104180e-04\n",
      "    4.66151054e-04   3.12193436e-04  -1.22876340e-04  -2.39384544e-04\n",
      "    2.54435480e-05   3.89648553e-03  -3.25222295e-03  -1.14079462e-03\n",
      "   -1.55175197e-03   5.48417492e-03  -3.85708072e-03  -2.26409299e-03\n",
      "    4.33767718e-03   4.20284752e-03   1.02536513e-03  -1.11963096e-02\n",
      "    5.57163160e-02  -8.39053204e-02  -5.55310824e-04  -4.80170066e-02\n",
      "   -2.02872783e-03  -7.92443738e-02  -5.09437456e-03   4.90638669e-05\n",
      "   -1.35910406e-04  -2.48715261e-03  -2.76457000e-03  -1.10998538e-01\n",
      "    9.78459988e-01  -8.95141231e-02   2.34218886e-03  -3.10614491e-03\n",
      "    3.64511457e-04]\n",
      " [ -9.15353690e-06  -3.83292700e-02  -5.78364762e-02   1.24662199e-02\n",
      "   -2.94899344e-03  -3.66624670e-02  -3.15064579e-04  -3.76403597e-04\n",
      "    5.78621783e-05   4.41902852e-05   2.52453236e-04  -1.95207768e-04\n",
      "   -1.07777298e-05   1.84383619e-04  -4.72478790e-07   1.24721405e-04\n",
      "   -1.90632774e-04  -6.30371946e-05   2.88692029e-05   4.82495363e-05\n",
      "    3.11392990e-05  -7.23462992e-04   1.41574038e-05   3.08425900e-03\n",
      "    3.86131992e-03   8.86655509e-03  -1.35380650e-02   7.62109450e-03\n",
      "    6.30498680e-03   1.31448561e-02  -1.36152850e-04  -6.78763640e-02\n",
      "    2.49644168e-02  -2.29150719e-02  -2.27903692e-04  -3.45625714e-02\n",
      "   -1.38302842e-02  -6.68074513e-02  -7.62443995e-03   4.92060236e-05\n",
      "   -3.90775452e-04  -3.05139238e-02  -4.12400291e-02  -9.81692248e-01\n",
      "   -1.22350621e-01   6.76008991e-03   9.45471101e-03   4.69969033e-04\n",
      "   -4.53031395e-04]\n",
      " [  2.41085708e-05  -2.23639856e-04   5.72601958e-03  -6.71665740e-04\n",
      "    6.45949866e-04   3.41158613e-03  -5.18916305e-04  -5.93249800e-04\n",
      "   -5.09299909e-05   1.48533131e-05   1.20751253e-04   2.01117444e-04\n",
      "    2.19531506e-05  -1.93826269e-04   1.03696962e-04   1.71760020e-04\n",
      "    1.17158202e-04   8.49542371e-05   1.05688214e-05   3.37873450e-05\n",
      "    6.24425757e-07   7.94420535e-05  -1.39610592e-03   6.29478279e-04\n",
      "    1.76894506e-04  -1.26257089e-03  -3.26447205e-03   1.13837047e-03\n",
      "    5.10059659e-04  -1.37203056e-03  -3.38699722e-04  -1.87406822e-02\n",
      "    3.53748695e-03  -1.93234045e-03   1.04380997e-04   3.57477893e-03\n",
      "    6.41665577e-04   9.76023791e-03  -6.44988325e-04  -7.99555687e-05\n",
      "    4.35172298e-04  -5.49460093e-03  -3.18545333e-04   1.01307706e-02\n",
      "   -9.91644880e-04  -7.36694570e-04   9.99662141e-01   2.99106331e-04\n",
      "    4.62962363e-04]\n",
      " [ -3.30876803e-06  -5.02690653e-04   2.33874431e-01  -3.10889776e-02\n",
      "    4.16802270e-03   4.34941736e-02  -1.46135513e-03   1.38833720e-03\n",
      "    4.71862732e-04   2.20723081e-04  -4.01442250e-04  -2.08910389e-03\n",
      "   -1.02256952e-03   5.30556905e-05  -7.45658659e-04  -7.11110570e-04\n",
      "   -8.37245274e-04  -1.83480890e-04   2.14024141e-04   2.79479079e-04\n",
      "    1.70413468e-04   2.99805566e-04   3.34213381e-03  -4.18702020e-03\n",
      "   -2.41625222e-03  -1.72413113e-02  -6.57984436e-03   4.99703556e-03\n",
      "    2.79096519e-03  -6.00345570e-03  -3.86728633e-03   2.98113003e-02\n",
      "    9.78543154e-04  -3.16743141e-03   3.18564721e-03   1.24203306e-01\n",
      "    1.67303581e-02   9.53515852e-01   2.23986227e-02   3.73772676e-05\n",
      "   -1.03526298e-04   4.47855006e-03   1.20915942e-02  -9.77236820e-02\n",
      "    7.57692155e-02  -1.08818688e-03  -9.67425077e-03   9.65274270e-03\n",
      "    7.35967741e-04]\n",
      " [ -9.62007643e-06   1.65575151e-02  -2.12987440e-02   3.72891102e-03\n",
      "   -1.65020151e-02   9.49428259e-03   3.02234806e-02   1.40980031e-03\n",
      "    2.63206037e-04   1.00509601e-04   4.74650661e-04  -1.18656183e-03\n",
      "   -5.22287154e-04   3.16996478e-04  -3.65072110e-04   6.62379795e-04\n",
      "   -7.85986098e-04  -6.99105428e-04   7.32744495e-05  -3.53238106e-05\n",
      "    2.14220912e-04  -1.23228671e-03  -2.41541250e-03  -2.75395452e-03\n",
      "   -9.07295363e-04  -1.83449295e-03  -1.14526408e-03   2.65303828e-03\n",
      "   -4.73114358e-03   2.28169967e-03  -1.83834036e-03  -9.08478505e-01\n",
      "    2.23094778e-02  -1.03654552e-02   4.37245923e-04  -4.89827428e-02\n",
      "   -1.66963600e-02   5.10126571e-02  -8.86194388e-03  -1.07408408e-04\n",
      "   -1.80259211e-03  -3.95142340e-01  -6.23494434e-02   7.77694153e-02\n",
      "   -4.80551476e-03  -9.81569212e-03  -2.03196801e-02  -8.51718513e-04\n",
      "   -3.37305930e-03]]\n"
     ]
    }
   ],
   "source": [
    "var=pca.explained_variance_ratio_\n",
    "print(var)\n",
    "print(pca.components_)"
   ]
  },
  {
   "cell_type": "code",
   "execution_count": 285,
   "metadata": {
    "collapsed": false
   },
   "outputs": [
    {
     "name": "stdout",
     "output_type": "stream",
     "text": [
      "(20, 49)\n"
     ]
    }
   ],
   "source": []
  },
  {
   "cell_type": "code",
   "execution_count": 267,
   "metadata": {
    "collapsed": false
   },
   "outputs": [
    {
     "name": "stdout",
     "output_type": "stream",
     "text": [
      "[ 0.99252447  0.99809588  0.99939707  0.99969457  0.99976977  0.99982707\n",
      "  0.99987533  0.99991578  0.99994161  0.99995937  0.99997188  0.99998179\n",
      "  0.99998821  0.9999944   0.9999982   0.99999898  0.99999952  0.99999977\n",
      "  0.99999991  0.99999995]\n"
     ]
    }
   ],
   "source": [
    "var1=np.cumsum(pca.explained_variance_ratio_)\n",
    "print(var1)"
   ]
  },
  {
   "cell_type": "code",
   "execution_count": 275,
   "metadata": {
    "collapsed": false
   },
   "outputs": [
    {
     "data": {
      "image/png": "[encoded data removed]",
      "text/plain": [
       "<matplotlib.figure.Figure at 0x10f207e80>"
      ]
     },
     "metadata": {},
     "output_type": "display_data"
    }
   ],
   "source": [
    "k = np.arange(20)\n",
    "plt.plot(var1)\n",
    "plt.xticks(k)\n",
    "plt.show()"
   ]
  },
  {
   "cell_type": "markdown",
   "metadata": {},
   "source": [
    "should use n_components = 9 for PCA method"
   ]
  },
  {
   "cell_type": "code",
   "execution_count": null,
   "metadata": {
    "collapsed": false
   },
   "outputs": [],
   "source": []
  },
  {
   "cell_type": "code",
   "execution_count": null,
   "metadata": {
    "collapsed": true
   },
   "outputs": [],
   "source": []
  }
 ],
 "metadata": {
  "kernelspec": {
   "display_name": "Python 3",
   "language": "python",
   "name": "python3"
  },
  "language_info": {
   "codemirror_mode": {
    "name": "ipython",
    "version": 3
   },
   "file_extension": ".py",
   "mimetype": "text/x-python",
   "name": "python",
   "nbconvert_exporter": "python",
   "pygments_lexer": "ipython3",
   "version": "3.6.0"
  }
 },
 "nbformat": 4,
 "nbformat_minor": 2
}
